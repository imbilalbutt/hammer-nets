{
 "cells": [
  {
   "cell_type": "code",
   "execution_count": 17,
   "id": "e65c3b16",
   "metadata": {},
   "outputs": [],
   "source": [
    "import ecco\n",
    "import torch\n",
    "import numpy as np\n",
    "from transformers import GPT2LMHeadModel, GPT2Tokenizer\n",
    "import re"
   ]
  },
  {
   "cell_type": "code",
   "execution_count": 18,
   "id": "bb27bac9",
   "metadata": {},
   "outputs": [],
   "source": [
    "# !pip install ecco"
   ]
  },
  {
   "cell_type": "code",
   "execution_count": 19,
   "id": "9d745265",
   "metadata": {},
   "outputs": [],
   "source": [
    "# let's remember what we modified so we can restore the model\n",
    "\n",
    "def modify_model_heads(model, layers, heads, memory, share):\n",
    "    \n",
    "    # offset of 1536 is the first value of the Values vector (as in Queries, Keys, Values)\n",
    "    # The next 64 values constitute the first head in the Values vector - there are 12 heads total in \"GPT-2 small\" model\n",
    "    head_offsets = [1536,1536+64,1536+128,1536+192,1536+256,1536+320, \\\n",
    "                    1536+384,1536+448,1536+512,1536+576,1536+640,1536+704]\n",
    "    \n",
    "    end_offset = int(64*(share/100))\n",
    "    # modify\n",
    "    # modify heads in all encoder layers\n",
    "    for layer in layers:\n",
    "        \n",
    "        layer = int(layer)\n",
    "        #print(\"Modifying layer: \",layer)\n",
    "        # step through the 12 heads one at a time\n",
    "        for head in heads:\n",
    "\n",
    "            # get the offset value for the current head\n",
    "            offset = head_offsets[head]\n",
    "\n",
    "            # modify a random 50%\n",
    "            #np.random.seed(1234)\n",
    "            #rnd_index = np.random.randint(offset,offset+63,32) # 50% of the heads\n",
    "            #if head < 3:\n",
    "            #    print(rnd_index)\n",
    "\n",
    "            # step through all 768 rows of the c_attn.weight matrix holding Query-Key-Values matrix (768x2304)\n",
    "            for row in range(0,model.model.transformer.h[layer].attn.c_attn.weight.size()[0]):\n",
    "\n",
    "                # The line below will do a random deletion\n",
    "                #model.transformer.h[layer].attn.c_attn.weight[row][rnd_index] = \\\n",
    "                #    model.transformer.h[layer].attn.c_attn.weight[row][rnd_index].mul(0.0)\n",
    "                \n",
    "\n",
    "                # The line below will randomly shuffle the head corresponding to the \"offset\" (not really reproducible)\n",
    "                #random.shuffle(model.transformer.h[layer].attn.c_attn.weight[row][offset:offset + 31])\n",
    "\n",
    "                with torch.no_grad():\n",
    "                    # remember what we modify\n",
    "                    memory[layer][row][offset:offset + end_offset] = model.model.transformer.h[layer].attn.c_attn.weight[row][offset:offset + end_offset]\n",
    "                \n",
    "                    # The line below will turn all values of the current head to zero (reproducible)\n",
    "                    # zero out only the first 16/32/48/64 values (25/50/75/100%) of each head\n",
    "                    model.model.transformer.h[layer].attn.c_attn.weight[row][offset:offset+end_offset] = \\\n",
    "                        model.model.transformer.h[layer].attn.c_attn.weight[row][offset:offset+end_offset].mul(0.0)\n",
    "                    model.model.transformer.h[layer].attn.c_attn.bias[offset:offset+end_offset] = \\\n",
    "                        model.model.transformer.h[layer].attn.c_attn.bias[offset:offset+end_offset].mul(0.0)\n",
    "                \n",
    "                # The line below will delete the last 50% of the values in each head\n",
    "                #model.transformer.h[layer].attn.c_attn.weight[row][offset+47:offset + 63] = \\\n",
    "                #    model.transformer.h[layer].attn.c_attn.weight[row][offset+47:offset + 63].mul(0.0)\n",
    "\n",
    "                # The line below will delete the middle 50% of the values in each head\n",
    "                #model.transformer.h[layer].attn.c_attn.weight[row][offset+15:offset + 47] = \\\n",
    "                #    model.transformer.h[layer].attn.c_attn.weight[row][offset+15:offset + 47].mul(0.0)\n",
    "\n",
    "                # let's implement a gradual damage across heads\n",
    "                # assuming that \n",
    "                #if head < 8:\n",
    "                #    model.transformer.h[layer].attn.c_attn.weight[row][offset:offset + 31] = \\\n",
    "                #        model.transformer.h[layer].attn.c_attn.weight[row][offset:offset + 31].mul(0.0)\n",
    "                #if head >= 8:\n",
    "                #    model.transformer.h[layer].attn.c_attn.weight[row][offset:offset + 15] = \\\n",
    "                #        model.transformer.h[layer].attn.c_attn.weight[row][offset:offset + 15].mul(0.0)\n",
    "                \n",
    "    return model, memory\n",
    "\n"
   ]
  },
  {
   "cell_type": "code",
   "execution_count": 20,
   "id": "8d27ca72",
   "metadata": {},
   "outputs": [],
   "source": [
    "def unmodify_model(model, layers, heads, memory, share):\n",
    "     # offset of 1536 is the first value of the Values vector (as in Queries, Keys, Values)\n",
    "    # The next 64 values constitute the first head in the Values vector - there are 12 heads total in \"GPT-2 small\" model\n",
    "    head_offsets = [1536,1536+64,1536+128,1536+192,1536+256,1536+320, \\\n",
    "                    1536+384,1536+448,1536+512,1536+576,1536+640,1536+704]\n",
    "    \n",
    "    end_offset = int(64*(share/100))\n",
    "    # modify\n",
    "    # modify heads in all encoder layers\n",
    "    for layer in layers:\n",
    "        \n",
    "        layer = int(layer)\n",
    "        #print(\"Un-Modifying layer: \",layer)\n",
    "        # step through the 12 heads one at a time\n",
    "        for head in heads:\n",
    "\n",
    "            # get the offset value for the current head\n",
    "            offset = head_offsets[head]\n",
    "\n",
    "            # step through all 768 rows of the c_attn.weight matrix holding Query-Key-Values matrix (768x2304)\n",
    "            for row in range(memory.shape[1]):\n",
    "\n",
    "                with torch.no_grad():\n",
    "                    # The line below will turn all values of the current head to zero (reproducible)\n",
    "                    # zero out only the first 16/32/48/64 values (25/50/75/100%) of each head\n",
    "                    model.transformer.h[layer].attn.c_attn.weight[row][offset:offset + end_offset] = \\\n",
    "                        memory[layer][row][offset:offset + end_offset]\n",
    "                \n",
    "                \n",
    "    return model\n"
   ]
  },
  {
   "cell_type": "code",
   "execution_count": 21,
   "id": "8eb5f1ee",
   "metadata": {},
   "outputs": [
    {
     "data": {
      "text/plain": [
       "False"
      ]
     },
     "execution_count": 21,
     "metadata": {},
     "output_type": "execute_result"
    }
   ],
   "source": [
    "import torch\n",
    "torch.cuda.is_available()"
   ]
  },
  {
   "cell_type": "code",
   "execution_count": 22,
   "id": "e93f2848",
   "metadata": {
    "scrolled": true
   },
   "outputs": [
    {
     "name": "stdout",
     "output_type": "stream",
     "text": [
      "env: CUDA_VISIBLE_DEVICES=1\n"
     ]
    }
   ],
   "source": [
    "%env CUDA_VISIBLE_DEVICES=1\n",
    "# Load pre-trained language model. Setting 'activations' to True tells Ecco to capture neuron activations.\n",
    "lm = ecco.from_pretrained('gpt2', activations=True)\n",
    "dlm = ecco.from_pretrained('gpt2', activations=True)\n"
   ]
  },
  {
   "cell_type": "markdown",
   "id": "d3943ff1",
   "metadata": {},
   "source": [
    "# 3- identify layer names\n",
    "\n",
    "We need the names of the embedding layer (to support attribution calculations) and the `FFNN layer` (to support neuron activation collection)."
   ]
  },
  {
   "cell_type": "code",
   "execution_count": 32,
   "id": "029cdff5",
   "metadata": {},
   "outputs": [],
   "source": [
    "from transformers import AutoModel"
   ]
  },
  {
   "cell_type": "code",
   "execution_count": 34,
   "id": "b1e622a0",
   "metadata": {},
   "outputs": [],
   "source": [
    "lm_model = AutoModel.from_pretrained('gpt2')"
   ]
  },
  {
   "cell_type": "code",
   "execution_count": 35,
   "id": "242986cb",
   "metadata": {},
   "outputs": [
    {
     "data": {
      "text/plain": [
       "GPT2Model(\n",
       "  (wte): Embedding(50257, 768)\n",
       "  (wpe): Embedding(1024, 768)\n",
       "  (drop): Dropout(p=0.1, inplace=False)\n",
       "  (h): ModuleList(\n",
       "    (0): GPT2Block(\n",
       "      (ln_1): LayerNorm((768,), eps=1e-05, elementwise_affine=True)\n",
       "      (attn): GPT2Attention(\n",
       "        (c_attn): Conv1D()\n",
       "        (c_proj): Conv1D()\n",
       "        (attn_dropout): Dropout(p=0.1, inplace=False)\n",
       "        (resid_dropout): Dropout(p=0.1, inplace=False)\n",
       "      )\n",
       "      (ln_2): LayerNorm((768,), eps=1e-05, elementwise_affine=True)\n",
       "      (mlp): GPT2MLP(\n",
       "        (c_fc): Conv1D()\n",
       "        (c_proj): Conv1D()\n",
       "        (act): NewGELUActivation()\n",
       "        (dropout): Dropout(p=0.1, inplace=False)\n",
       "      )\n",
       "    )\n",
       "    (1): GPT2Block(\n",
       "      (ln_1): LayerNorm((768,), eps=1e-05, elementwise_affine=True)\n",
       "      (attn): GPT2Attention(\n",
       "        (c_attn): Conv1D()\n",
       "        (c_proj): Conv1D()\n",
       "        (attn_dropout): Dropout(p=0.1, inplace=False)\n",
       "        (resid_dropout): Dropout(p=0.1, inplace=False)\n",
       "      )\n",
       "      (ln_2): LayerNorm((768,), eps=1e-05, elementwise_affine=True)\n",
       "      (mlp): GPT2MLP(\n",
       "        (c_fc): Conv1D()\n",
       "        (c_proj): Conv1D()\n",
       "        (act): NewGELUActivation()\n",
       "        (dropout): Dropout(p=0.1, inplace=False)\n",
       "      )\n",
       "    )\n",
       "    (2): GPT2Block(\n",
       "      (ln_1): LayerNorm((768,), eps=1e-05, elementwise_affine=True)\n",
       "      (attn): GPT2Attention(\n",
       "        (c_attn): Conv1D()\n",
       "        (c_proj): Conv1D()\n",
       "        (attn_dropout): Dropout(p=0.1, inplace=False)\n",
       "        (resid_dropout): Dropout(p=0.1, inplace=False)\n",
       "      )\n",
       "      (ln_2): LayerNorm((768,), eps=1e-05, elementwise_affine=True)\n",
       "      (mlp): GPT2MLP(\n",
       "        (c_fc): Conv1D()\n",
       "        (c_proj): Conv1D()\n",
       "        (act): NewGELUActivation()\n",
       "        (dropout): Dropout(p=0.1, inplace=False)\n",
       "      )\n",
       "    )\n",
       "    (3): GPT2Block(\n",
       "      (ln_1): LayerNorm((768,), eps=1e-05, elementwise_affine=True)\n",
       "      (attn): GPT2Attention(\n",
       "        (c_attn): Conv1D()\n",
       "        (c_proj): Conv1D()\n",
       "        (attn_dropout): Dropout(p=0.1, inplace=False)\n",
       "        (resid_dropout): Dropout(p=0.1, inplace=False)\n",
       "      )\n",
       "      (ln_2): LayerNorm((768,), eps=1e-05, elementwise_affine=True)\n",
       "      (mlp): GPT2MLP(\n",
       "        (c_fc): Conv1D()\n",
       "        (c_proj): Conv1D()\n",
       "        (act): NewGELUActivation()\n",
       "        (dropout): Dropout(p=0.1, inplace=False)\n",
       "      )\n",
       "    )\n",
       "    (4): GPT2Block(\n",
       "      (ln_1): LayerNorm((768,), eps=1e-05, elementwise_affine=True)\n",
       "      (attn): GPT2Attention(\n",
       "        (c_attn): Conv1D()\n",
       "        (c_proj): Conv1D()\n",
       "        (attn_dropout): Dropout(p=0.1, inplace=False)\n",
       "        (resid_dropout): Dropout(p=0.1, inplace=False)\n",
       "      )\n",
       "      (ln_2): LayerNorm((768,), eps=1e-05, elementwise_affine=True)\n",
       "      (mlp): GPT2MLP(\n",
       "        (c_fc): Conv1D()\n",
       "        (c_proj): Conv1D()\n",
       "        (act): NewGELUActivation()\n",
       "        (dropout): Dropout(p=0.1, inplace=False)\n",
       "      )\n",
       "    )\n",
       "    (5): GPT2Block(\n",
       "      (ln_1): LayerNorm((768,), eps=1e-05, elementwise_affine=True)\n",
       "      (attn): GPT2Attention(\n",
       "        (c_attn): Conv1D()\n",
       "        (c_proj): Conv1D()\n",
       "        (attn_dropout): Dropout(p=0.1, inplace=False)\n",
       "        (resid_dropout): Dropout(p=0.1, inplace=False)\n",
       "      )\n",
       "      (ln_2): LayerNorm((768,), eps=1e-05, elementwise_affine=True)\n",
       "      (mlp): GPT2MLP(\n",
       "        (c_fc): Conv1D()\n",
       "        (c_proj): Conv1D()\n",
       "        (act): NewGELUActivation()\n",
       "        (dropout): Dropout(p=0.1, inplace=False)\n",
       "      )\n",
       "    )\n",
       "    (6): GPT2Block(\n",
       "      (ln_1): LayerNorm((768,), eps=1e-05, elementwise_affine=True)\n",
       "      (attn): GPT2Attention(\n",
       "        (c_attn): Conv1D()\n",
       "        (c_proj): Conv1D()\n",
       "        (attn_dropout): Dropout(p=0.1, inplace=False)\n",
       "        (resid_dropout): Dropout(p=0.1, inplace=False)\n",
       "      )\n",
       "      (ln_2): LayerNorm((768,), eps=1e-05, elementwise_affine=True)\n",
       "      (mlp): GPT2MLP(\n",
       "        (c_fc): Conv1D()\n",
       "        (c_proj): Conv1D()\n",
       "        (act): NewGELUActivation()\n",
       "        (dropout): Dropout(p=0.1, inplace=False)\n",
       "      )\n",
       "    )\n",
       "    (7): GPT2Block(\n",
       "      (ln_1): LayerNorm((768,), eps=1e-05, elementwise_affine=True)\n",
       "      (attn): GPT2Attention(\n",
       "        (c_attn): Conv1D()\n",
       "        (c_proj): Conv1D()\n",
       "        (attn_dropout): Dropout(p=0.1, inplace=False)\n",
       "        (resid_dropout): Dropout(p=0.1, inplace=False)\n",
       "      )\n",
       "      (ln_2): LayerNorm((768,), eps=1e-05, elementwise_affine=True)\n",
       "      (mlp): GPT2MLP(\n",
       "        (c_fc): Conv1D()\n",
       "        (c_proj): Conv1D()\n",
       "        (act): NewGELUActivation()\n",
       "        (dropout): Dropout(p=0.1, inplace=False)\n",
       "      )\n",
       "    )\n",
       "    (8): GPT2Block(\n",
       "      (ln_1): LayerNorm((768,), eps=1e-05, elementwise_affine=True)\n",
       "      (attn): GPT2Attention(\n",
       "        (c_attn): Conv1D()\n",
       "        (c_proj): Conv1D()\n",
       "        (attn_dropout): Dropout(p=0.1, inplace=False)\n",
       "        (resid_dropout): Dropout(p=0.1, inplace=False)\n",
       "      )\n",
       "      (ln_2): LayerNorm((768,), eps=1e-05, elementwise_affine=True)\n",
       "      (mlp): GPT2MLP(\n",
       "        (c_fc): Conv1D()\n",
       "        (c_proj): Conv1D()\n",
       "        (act): NewGELUActivation()\n",
       "        (dropout): Dropout(p=0.1, inplace=False)\n",
       "      )\n",
       "    )\n",
       "    (9): GPT2Block(\n",
       "      (ln_1): LayerNorm((768,), eps=1e-05, elementwise_affine=True)\n",
       "      (attn): GPT2Attention(\n",
       "        (c_attn): Conv1D()\n",
       "        (c_proj): Conv1D()\n",
       "        (attn_dropout): Dropout(p=0.1, inplace=False)\n",
       "        (resid_dropout): Dropout(p=0.1, inplace=False)\n",
       "      )\n",
       "      (ln_2): LayerNorm((768,), eps=1e-05, elementwise_affine=True)\n",
       "      (mlp): GPT2MLP(\n",
       "        (c_fc): Conv1D()\n",
       "        (c_proj): Conv1D()\n",
       "        (act): NewGELUActivation()\n",
       "        (dropout): Dropout(p=0.1, inplace=False)\n",
       "      )\n",
       "    )\n",
       "    (10): GPT2Block(\n",
       "      (ln_1): LayerNorm((768,), eps=1e-05, elementwise_affine=True)\n",
       "      (attn): GPT2Attention(\n",
       "        (c_attn): Conv1D()\n",
       "        (c_proj): Conv1D()\n",
       "        (attn_dropout): Dropout(p=0.1, inplace=False)\n",
       "        (resid_dropout): Dropout(p=0.1, inplace=False)\n",
       "      )\n",
       "      (ln_2): LayerNorm((768,), eps=1e-05, elementwise_affine=True)\n",
       "      (mlp): GPT2MLP(\n",
       "        (c_fc): Conv1D()\n",
       "        (c_proj): Conv1D()\n",
       "        (act): NewGELUActivation()\n",
       "        (dropout): Dropout(p=0.1, inplace=False)\n",
       "      )\n",
       "    )\n",
       "    (11): GPT2Block(\n",
       "      (ln_1): LayerNorm((768,), eps=1e-05, elementwise_affine=True)\n",
       "      (attn): GPT2Attention(\n",
       "        (c_attn): Conv1D()\n",
       "        (c_proj): Conv1D()\n",
       "        (attn_dropout): Dropout(p=0.1, inplace=False)\n",
       "        (resid_dropout): Dropout(p=0.1, inplace=False)\n",
       "      )\n",
       "      (ln_2): LayerNorm((768,), eps=1e-05, elementwise_affine=True)\n",
       "      (mlp): GPT2MLP(\n",
       "        (c_fc): Conv1D()\n",
       "        (c_proj): Conv1D()\n",
       "        (act): NewGELUActivation()\n",
       "        (dropout): Dropout(p=0.1, inplace=False)\n",
       "      )\n",
       "    )\n",
       "  )\n",
       "  (ln_f): LayerNorm((768,), eps=1e-05, elementwise_affine=True)\n",
       ")"
      ]
     },
     "execution_count": 35,
     "metadata": {},
     "output_type": "execute_result"
    }
   ],
   "source": [
    "lm_model"
   ]
  },
  {
   "cell_type": "code",
   "execution_count": 36,
   "id": "296827ee",
   "metadata": {},
   "outputs": [],
   "source": [
    "dlm_model = AutoModel.from_pretrained('gpt2')"
   ]
  },
  {
   "cell_type": "code",
   "execution_count": 37,
   "id": "cabfda40",
   "metadata": {},
   "outputs": [
    {
     "data": {
      "text/plain": [
       "GPT2Model(\n",
       "  (wte): Embedding(50257, 768)\n",
       "  (wpe): Embedding(1024, 768)\n",
       "  (drop): Dropout(p=0.1, inplace=False)\n",
       "  (h): ModuleList(\n",
       "    (0): GPT2Block(\n",
       "      (ln_1): LayerNorm((768,), eps=1e-05, elementwise_affine=True)\n",
       "      (attn): GPT2Attention(\n",
       "        (c_attn): Conv1D()\n",
       "        (c_proj): Conv1D()\n",
       "        (attn_dropout): Dropout(p=0.1, inplace=False)\n",
       "        (resid_dropout): Dropout(p=0.1, inplace=False)\n",
       "      )\n",
       "      (ln_2): LayerNorm((768,), eps=1e-05, elementwise_affine=True)\n",
       "      (mlp): GPT2MLP(\n",
       "        (c_fc): Conv1D()\n",
       "        (c_proj): Conv1D()\n",
       "        (act): NewGELUActivation()\n",
       "        (dropout): Dropout(p=0.1, inplace=False)\n",
       "      )\n",
       "    )\n",
       "    (1): GPT2Block(\n",
       "      (ln_1): LayerNorm((768,), eps=1e-05, elementwise_affine=True)\n",
       "      (attn): GPT2Attention(\n",
       "        (c_attn): Conv1D()\n",
       "        (c_proj): Conv1D()\n",
       "        (attn_dropout): Dropout(p=0.1, inplace=False)\n",
       "        (resid_dropout): Dropout(p=0.1, inplace=False)\n",
       "      )\n",
       "      (ln_2): LayerNorm((768,), eps=1e-05, elementwise_affine=True)\n",
       "      (mlp): GPT2MLP(\n",
       "        (c_fc): Conv1D()\n",
       "        (c_proj): Conv1D()\n",
       "        (act): NewGELUActivation()\n",
       "        (dropout): Dropout(p=0.1, inplace=False)\n",
       "      )\n",
       "    )\n",
       "    (2): GPT2Block(\n",
       "      (ln_1): LayerNorm((768,), eps=1e-05, elementwise_affine=True)\n",
       "      (attn): GPT2Attention(\n",
       "        (c_attn): Conv1D()\n",
       "        (c_proj): Conv1D()\n",
       "        (attn_dropout): Dropout(p=0.1, inplace=False)\n",
       "        (resid_dropout): Dropout(p=0.1, inplace=False)\n",
       "      )\n",
       "      (ln_2): LayerNorm((768,), eps=1e-05, elementwise_affine=True)\n",
       "      (mlp): GPT2MLP(\n",
       "        (c_fc): Conv1D()\n",
       "        (c_proj): Conv1D()\n",
       "        (act): NewGELUActivation()\n",
       "        (dropout): Dropout(p=0.1, inplace=False)\n",
       "      )\n",
       "    )\n",
       "    (3): GPT2Block(\n",
       "      (ln_1): LayerNorm((768,), eps=1e-05, elementwise_affine=True)\n",
       "      (attn): GPT2Attention(\n",
       "        (c_attn): Conv1D()\n",
       "        (c_proj): Conv1D()\n",
       "        (attn_dropout): Dropout(p=0.1, inplace=False)\n",
       "        (resid_dropout): Dropout(p=0.1, inplace=False)\n",
       "      )\n",
       "      (ln_2): LayerNorm((768,), eps=1e-05, elementwise_affine=True)\n",
       "      (mlp): GPT2MLP(\n",
       "        (c_fc): Conv1D()\n",
       "        (c_proj): Conv1D()\n",
       "        (act): NewGELUActivation()\n",
       "        (dropout): Dropout(p=0.1, inplace=False)\n",
       "      )\n",
       "    )\n",
       "    (4): GPT2Block(\n",
       "      (ln_1): LayerNorm((768,), eps=1e-05, elementwise_affine=True)\n",
       "      (attn): GPT2Attention(\n",
       "        (c_attn): Conv1D()\n",
       "        (c_proj): Conv1D()\n",
       "        (attn_dropout): Dropout(p=0.1, inplace=False)\n",
       "        (resid_dropout): Dropout(p=0.1, inplace=False)\n",
       "      )\n",
       "      (ln_2): LayerNorm((768,), eps=1e-05, elementwise_affine=True)\n",
       "      (mlp): GPT2MLP(\n",
       "        (c_fc): Conv1D()\n",
       "        (c_proj): Conv1D()\n",
       "        (act): NewGELUActivation()\n",
       "        (dropout): Dropout(p=0.1, inplace=False)\n",
       "      )\n",
       "    )\n",
       "    (5): GPT2Block(\n",
       "      (ln_1): LayerNorm((768,), eps=1e-05, elementwise_affine=True)\n",
       "      (attn): GPT2Attention(\n",
       "        (c_attn): Conv1D()\n",
       "        (c_proj): Conv1D()\n",
       "        (attn_dropout): Dropout(p=0.1, inplace=False)\n",
       "        (resid_dropout): Dropout(p=0.1, inplace=False)\n",
       "      )\n",
       "      (ln_2): LayerNorm((768,), eps=1e-05, elementwise_affine=True)\n",
       "      (mlp): GPT2MLP(\n",
       "        (c_fc): Conv1D()\n",
       "        (c_proj): Conv1D()\n",
       "        (act): NewGELUActivation()\n",
       "        (dropout): Dropout(p=0.1, inplace=False)\n",
       "      )\n",
       "    )\n",
       "    (6): GPT2Block(\n",
       "      (ln_1): LayerNorm((768,), eps=1e-05, elementwise_affine=True)\n",
       "      (attn): GPT2Attention(\n",
       "        (c_attn): Conv1D()\n",
       "        (c_proj): Conv1D()\n",
       "        (attn_dropout): Dropout(p=0.1, inplace=False)\n",
       "        (resid_dropout): Dropout(p=0.1, inplace=False)\n",
       "      )\n",
       "      (ln_2): LayerNorm((768,), eps=1e-05, elementwise_affine=True)\n",
       "      (mlp): GPT2MLP(\n",
       "        (c_fc): Conv1D()\n",
       "        (c_proj): Conv1D()\n",
       "        (act): NewGELUActivation()\n",
       "        (dropout): Dropout(p=0.1, inplace=False)\n",
       "      )\n",
       "    )\n",
       "    (7): GPT2Block(\n",
       "      (ln_1): LayerNorm((768,), eps=1e-05, elementwise_affine=True)\n",
       "      (attn): GPT2Attention(\n",
       "        (c_attn): Conv1D()\n",
       "        (c_proj): Conv1D()\n",
       "        (attn_dropout): Dropout(p=0.1, inplace=False)\n",
       "        (resid_dropout): Dropout(p=0.1, inplace=False)\n",
       "      )\n",
       "      (ln_2): LayerNorm((768,), eps=1e-05, elementwise_affine=True)\n",
       "      (mlp): GPT2MLP(\n",
       "        (c_fc): Conv1D()\n",
       "        (c_proj): Conv1D()\n",
       "        (act): NewGELUActivation()\n",
       "        (dropout): Dropout(p=0.1, inplace=False)\n",
       "      )\n",
       "    )\n",
       "    (8): GPT2Block(\n",
       "      (ln_1): LayerNorm((768,), eps=1e-05, elementwise_affine=True)\n",
       "      (attn): GPT2Attention(\n",
       "        (c_attn): Conv1D()\n",
       "        (c_proj): Conv1D()\n",
       "        (attn_dropout): Dropout(p=0.1, inplace=False)\n",
       "        (resid_dropout): Dropout(p=0.1, inplace=False)\n",
       "      )\n",
       "      (ln_2): LayerNorm((768,), eps=1e-05, elementwise_affine=True)\n",
       "      (mlp): GPT2MLP(\n",
       "        (c_fc): Conv1D()\n",
       "        (c_proj): Conv1D()\n",
       "        (act): NewGELUActivation()\n",
       "        (dropout): Dropout(p=0.1, inplace=False)\n",
       "      )\n",
       "    )\n",
       "    (9): GPT2Block(\n",
       "      (ln_1): LayerNorm((768,), eps=1e-05, elementwise_affine=True)\n",
       "      (attn): GPT2Attention(\n",
       "        (c_attn): Conv1D()\n",
       "        (c_proj): Conv1D()\n",
       "        (attn_dropout): Dropout(p=0.1, inplace=False)\n",
       "        (resid_dropout): Dropout(p=0.1, inplace=False)\n",
       "      )\n",
       "      (ln_2): LayerNorm((768,), eps=1e-05, elementwise_affine=True)\n",
       "      (mlp): GPT2MLP(\n",
       "        (c_fc): Conv1D()\n",
       "        (c_proj): Conv1D()\n",
       "        (act): NewGELUActivation()\n",
       "        (dropout): Dropout(p=0.1, inplace=False)\n",
       "      )\n",
       "    )\n",
       "    (10): GPT2Block(\n",
       "      (ln_1): LayerNorm((768,), eps=1e-05, elementwise_affine=True)\n",
       "      (attn): GPT2Attention(\n",
       "        (c_attn): Conv1D()\n",
       "        (c_proj): Conv1D()\n",
       "        (attn_dropout): Dropout(p=0.1, inplace=False)\n",
       "        (resid_dropout): Dropout(p=0.1, inplace=False)\n",
       "      )\n",
       "      (ln_2): LayerNorm((768,), eps=1e-05, elementwise_affine=True)\n",
       "      (mlp): GPT2MLP(\n",
       "        (c_fc): Conv1D()\n",
       "        (c_proj): Conv1D()\n",
       "        (act): NewGELUActivation()\n",
       "        (dropout): Dropout(p=0.1, inplace=False)\n",
       "      )\n",
       "    )\n",
       "    (11): GPT2Block(\n",
       "      (ln_1): LayerNorm((768,), eps=1e-05, elementwise_affine=True)\n",
       "      (attn): GPT2Attention(\n",
       "        (c_attn): Conv1D()\n",
       "        (c_proj): Conv1D()\n",
       "        (attn_dropout): Dropout(p=0.1, inplace=False)\n",
       "        (resid_dropout): Dropout(p=0.1, inplace=False)\n",
       "      )\n",
       "      (ln_2): LayerNorm((768,), eps=1e-05, elementwise_affine=True)\n",
       "      (mlp): GPT2MLP(\n",
       "        (c_fc): Conv1D()\n",
       "        (c_proj): Conv1D()\n",
       "        (act): NewGELUActivation()\n",
       "        (dropout): Dropout(p=0.1, inplace=False)\n",
       "      )\n",
       "    )\n",
       "  )\n",
       "  (ln_f): LayerNorm((768,), eps=1e-05, elementwise_affine=True)\n",
       ")"
      ]
     },
     "execution_count": 37,
     "metadata": {},
     "output_type": "execute_result"
    }
   ],
   "source": [
    "dlm_model"
   ]
  },
  {
   "cell_type": "code",
   "execution_count": 23,
   "id": "c4631445",
   "metadata": {},
   "outputs": [],
   "source": [
    "layers = list(range(9))\n",
    "heads = [0,1,2,3,4,5,6,7,8,9,10,11]\n",
    "memory = torch.FloatTensor(np.zeros((12,768,2304))).to('cpu')\n",
    "\n",
    "dlm, mem = modify_model_heads(dlm, layers, heads, memory, 50)"
   ]
  },
  {
   "cell_type": "code",
   "execution_count": 24,
   "id": "24bfa593",
   "metadata": {},
   "outputs": [],
   "source": [
    "# Input text\n",
    "text = \"There are two children and their mother in the kitchen. The little boy has climbed up, on a three legged stool to get some cookies from the jar in the cupboard.\"\n",
    "#text = \"The little boy has climbed up, on a three legged stool to get some cookies from the jar in the cupboard.\""
   ]
  },
  {
   "cell_type": "markdown",
   "id": "b905fa5c",
   "metadata": {},
   "source": [
    "# Pass in `attribution` argument the list of primary attributions to be computed\n",
    "# With ['ig', 'grad_x_input'] we are calculating Integrated Gradients and Input X Gradient saliency attributions\n",
    "# output = lm.generate(text, generate=20, do_sample=True, attribution=['ig', 'grad_x_input'])"
   ]
  },
  {
   "cell_type": "code",
   "execution_count": 25,
   "id": "d7618aff",
   "metadata": {},
   "outputs": [
    {
     "data": {
      "text/html": [
       "<html lang=\"en\">\n",
       "<script src=\"https://requirejs.org/docs/release/2.3.6/minified/require.js\"></script>\n",
       "<script>\n",
       "    var ecco_url = 'https://storage.googleapis.com/ml-intro/ecco/'\n",
       "    //var ecco_url = 'http://localhost:8000/'\n",
       "\n",
       "    if (window.ecco === undefined) window.ecco = {}\n",
       "\n",
       "    // Setup the paths of the script we'll be using\n",
       "    requirejs.config({\n",
       "        urlArgs: \"bust=\" + (new Date()).getTime(),\n",
       "        nodeRequire: require,\n",
       "        paths: {\n",
       "            d3: \"https://d3js.org/d3.v6.min\", // This is only for use in setup.html and basic.html\n",
       "            \"d3-array\": \"https://d3js.org/d3-array.v2.min\",\n",
       "            jquery: \"https://code.jquery.com/jquery-3.5.1.min\",\n",
       "            ecco: ecco_url + 'js/0.0.6/ecco-bundle.min',\n",
       "            xregexp: 'https://cdnjs.cloudflare.com/ajax/libs/xregexp/3.2.0/xregexp-all.min'\n",
       "        }\n",
       "    });\n",
       "\n",
       "    // Add the css file\n",
       "    //requirejs(['d3'],\n",
       "    //    function (d3) {\n",
       "    //        d3.select('#css').attr('href', ecco_url + 'html/styles.css')\n",
       "    //    })\n",
       "\n",
       "    console.log('Ecco initialize!!')\n",
       "\n",
       "    // returns a 'basic' object. basic.init() selects the html div we'll be\n",
       "    // rendering the html into, adds styles.css to the document.\n",
       "    define('basic', ['d3'],\n",
       "        function (d3) {\n",
       "            return {\n",
       "                init: function (viz_id = null) {\n",
       "                    if (viz_id == null) {\n",
       "                        viz_id = \"viz_\" + Math.round(Math.random() * 10000000)\n",
       "                    }\n",
       "                    // Select the div rendered below, change its id\n",
       "                    const div = d3.select('#basic').attr('id', viz_id),\n",
       "                        div_parent = d3.select('#' + viz_id).node().parentNode\n",
       "\n",
       "                    // Link to CSS file\n",
       "                    d3.select(div_parent).insert('link')\n",
       "                        .attr('rel', 'stylesheet')\n",
       "                        .attr('type', 'text/css')\n",
       "                        .attr('href', ecco_url + 'html/0.0.2/styles.css')\n",
       "\n",
       "                    return viz_id\n",
       "                }\n",
       "            }\n",
       "        }, function (err) {\n",
       "            console.log(err);\n",
       "        }\n",
       "    )\n",
       "</script>\n",
       "\n",
       "<head>\n",
       "    <link id='css' rel=\"stylesheet\" type=\"text/css\">\n",
       "</head>\n",
       "<div id=\"basic\"></div>\n"
      ],
      "text/plain": [
       "<IPython.core.display.HTML object>"
      ]
     },
     "metadata": {},
     "output_type": "display_data"
    },
    {
     "data": {
      "application/javascript": [
       "\n",
       "         requirejs( ['basic', 'ecco'], function(basic, ecco){\n",
       "            basic.init('viz_335942') // Python needs to know the viz id. Used for each output token.\n",
       "            window.ecco['viz_335942'] = new ecco.renderOutputSequence({\n",
       "                    parentDiv: 'viz_335942',\n",
       "                    data: {\"tokens\": [{\"token\": \"There\", \"is_partial\": true, \"position\": 0, \"token_id\": 1858, \"type\": \"input\"}, {\"token\": \"are\", \"is_partial\": false, \"position\": 1, \"token_id\": 389, \"type\": \"input\"}, {\"token\": \"two\", \"is_partial\": false, \"position\": 2, \"token_id\": 734, \"type\": \"input\"}, {\"token\": \"children\", \"is_partial\": false, \"position\": 3, \"token_id\": 1751, \"type\": \"input\"}, {\"token\": \"and\", \"is_partial\": false, \"position\": 4, \"token_id\": 290, \"type\": \"input\"}, {\"token\": \"their\", \"is_partial\": false, \"position\": 5, \"token_id\": 511, \"type\": \"input\"}, {\"token\": \"mother\", \"is_partial\": false, \"position\": 6, \"token_id\": 2802, \"type\": \"input\"}, {\"token\": \"in\", \"is_partial\": false, \"position\": 7, \"token_id\": 287, \"type\": \"input\"}, {\"token\": \"the\", \"is_partial\": false, \"position\": 8, \"token_id\": 262, \"type\": \"input\"}, {\"token\": \"kitchen\", \"is_partial\": false, \"position\": 9, \"token_id\": 9592, \"type\": \"input\"}, {\"token\": \".\", \"is_partial\": true, \"position\": 10, \"token_id\": 13, \"type\": \"input\"}, {\"token\": \"The\", \"is_partial\": false, \"position\": 11, \"token_id\": 383, \"type\": \"input\"}, {\"token\": \"little\", \"is_partial\": false, \"position\": 12, \"token_id\": 1310, \"type\": \"input\"}, {\"token\": \"boy\", \"is_partial\": false, \"position\": 13, \"token_id\": 2933, \"type\": \"input\"}, {\"token\": \"has\", \"is_partial\": false, \"position\": 14, \"token_id\": 468, \"type\": \"input\"}, {\"token\": \"climbed\", \"is_partial\": false, \"position\": 15, \"token_id\": 19952, \"type\": \"input\"}, {\"token\": \"up\", \"is_partial\": false, \"position\": 16, \"token_id\": 510, \"type\": \"input\"}, {\"token\": \",\", \"is_partial\": true, \"position\": 17, \"token_id\": 11, \"type\": \"input\"}, {\"token\": \"on\", \"is_partial\": false, \"position\": 18, \"token_id\": 319, \"type\": \"input\"}, {\"token\": \"a\", \"is_partial\": false, \"position\": 19, \"token_id\": 257, \"type\": \"input\"}, {\"token\": \"three\", \"is_partial\": false, \"position\": 20, \"token_id\": 1115, \"type\": \"input\"}, {\"token\": \"le\", \"is_partial\": false, \"position\": 21, \"token_id\": 443, \"type\": \"input\"}, {\"token\": \"gged\", \"is_partial\": true, \"position\": 22, \"token_id\": 11178, \"type\": \"input\"}, {\"token\": \"stool\", \"is_partial\": false, \"position\": 23, \"token_id\": 38753, \"type\": \"input\"}, {\"token\": \"to\", \"is_partial\": false, \"position\": 24, \"token_id\": 284, \"type\": \"input\"}, {\"token\": \"get\", \"is_partial\": false, \"position\": 25, \"token_id\": 651, \"type\": \"input\"}, {\"token\": \"some\", \"is_partial\": false, \"position\": 26, \"token_id\": 617, \"type\": \"input\"}, {\"token\": \"cookies\", \"is_partial\": false, \"position\": 27, \"token_id\": 14746, \"type\": \"input\"}, {\"token\": \"from\", \"is_partial\": false, \"position\": 28, \"token_id\": 422, \"type\": \"input\"}, {\"token\": \"the\", \"is_partial\": false, \"position\": 29, \"token_id\": 262, \"type\": \"input\"}, {\"token\": \"jar\", \"is_partial\": false, \"position\": 30, \"token_id\": 17379, \"type\": \"input\"}, {\"token\": \"in\", \"is_partial\": false, \"position\": 31, \"token_id\": 287, \"type\": \"input\"}, {\"token\": \"the\", \"is_partial\": false, \"position\": 32, \"token_id\": 262, \"type\": \"input\"}, {\"token\": \"cup\", \"is_partial\": false, \"position\": 33, \"token_id\": 6508, \"type\": \"input\"}, {\"token\": \"board\", \"is_partial\": true, \"position\": 34, \"token_id\": 3526, \"type\": \"input\"}, {\"token\": \".\", \"is_partial\": true, \"position\": 35, \"token_id\": 13, \"type\": \"input\"}]},\n",
       "                    tokenization_config: {\"token_prefix\": \"\\u0120\", \"partial_token_prefix\": \"\"}\n",
       "            \n",
       "            })\n",
       "         }, function (err) {\n",
       "            console.log(err);\n",
       "        })\n",
       "        "
      ],
      "text/plain": [
       "<IPython.core.display.Javascript object>"
      ]
     },
     "metadata": {},
     "output_type": "display_data"
    },
    {
     "name": "stderr",
     "output_type": "stream",
     "text": [
      "Setting `pad_token_id` to `eos_token_id`:50256 for open-end generation.\n"
     ]
    },
    {
     "data": {
      "application/javascript": [
       "\n",
       "        // We don't really need these require scripts. But this is to avert\n",
       "        //this code from running before display_input_sequence which DOES require external files\n",
       "        requirejs(['basic', 'ecco'], function(basic, ecco){\n",
       "                console.log('addToken viz_id', 'viz_335942');\n",
       "                window.ecco['viz_335942'].addToken({\"token\": \"\\n\", \"is_partial\": true, \"token_id\": 198, \"position\": 36, \"type\": \"output\"})\n",
       "                window.ecco['viz_335942'].redraw()\n",
       "        })\n",
       "        "
      ],
      "text/plain": [
       "<IPython.core.display.Javascript object>"
      ]
     },
     "metadata": {},
     "output_type": "display_data"
    },
    {
     "data": {
      "application/javascript": [
       "\n",
       "        // We don't really need these require scripts. But this is to avert\n",
       "        //this code from running before display_input_sequence which DOES require external files\n",
       "        requirejs(['basic', 'ecco'], function(basic, ecco){\n",
       "                console.log('addToken viz_id', 'viz_335942');\n",
       "                window.ecco['viz_335942'].addToken({\"token\": \"\\n\", \"is_partial\": true, \"token_id\": 198, \"position\": 37, \"type\": \"output\"})\n",
       "                window.ecco['viz_335942'].redraw()\n",
       "        })\n",
       "        "
      ],
      "text/plain": [
       "<IPython.core.display.Javascript object>"
      ]
     },
     "metadata": {},
     "output_type": "display_data"
    },
    {
     "data": {
      "application/javascript": [
       "\n",
       "        // We don't really need these require scripts. But this is to avert\n",
       "        //this code from running before display_input_sequence which DOES require external files\n",
       "        requirejs(['basic', 'ecco'], function(basic, ecco){\n",
       "                console.log('addToken viz_id', 'viz_335942');\n",
       "                window.ecco['viz_335942'].addToken({\"token\": \"\\\"\", \"is_partial\": true, \"token_id\": 1, \"position\": 38, \"type\": \"output\"})\n",
       "                window.ecco['viz_335942'].redraw()\n",
       "        })\n",
       "        "
      ],
      "text/plain": [
       "<IPython.core.display.Javascript object>"
      ]
     },
     "metadata": {},
     "output_type": "display_data"
    },
    {
     "data": {
      "application/javascript": [
       "\n",
       "        // We don't really need these require scripts. But this is to avert\n",
       "        //this code from running before display_input_sequence which DOES require external files\n",
       "        requirejs(['basic', 'ecco'], function(basic, ecco){\n",
       "                console.log('addToken viz_id', 'viz_335942');\n",
       "                window.ecco['viz_335942'].addToken({\"token\": \"We\", \"is_partial\": true, \"token_id\": 1135, \"position\": 39, \"type\": \"output\"})\n",
       "                window.ecco['viz_335942'].redraw()\n",
       "        })\n",
       "        "
      ],
      "text/plain": [
       "<IPython.core.display.Javascript object>"
      ]
     },
     "metadata": {},
     "output_type": "display_data"
    },
    {
     "data": {
      "application/javascript": [
       "\n",
       "        // We don't really need these require scripts. But this is to avert\n",
       "        //this code from running before display_input_sequence which DOES require external files\n",
       "        requirejs(['basic', 'ecco'], function(basic, ecco){\n",
       "                console.log('addToken viz_id', 'viz_335942');\n",
       "                window.ecco['viz_335942'].addToken({\"token\": \"have\", \"is_partial\": false, \"token_id\": 423, \"position\": 40, \"type\": \"output\"})\n",
       "                window.ecco['viz_335942'].redraw()\n",
       "        })\n",
       "        "
      ],
      "text/plain": [
       "<IPython.core.display.Javascript object>"
      ]
     },
     "metadata": {},
     "output_type": "display_data"
    },
    {
     "data": {
      "application/javascript": [
       "\n",
       "        // We don't really need these require scripts. But this is to avert\n",
       "        //this code from running before display_input_sequence which DOES require external files\n",
       "        requirejs(['basic', 'ecco'], function(basic, ecco){\n",
       "                console.log('addToken viz_id', 'viz_335942');\n",
       "                window.ecco['viz_335942'].addToken({\"token\": \"the\", \"is_partial\": false, \"token_id\": 262, \"position\": 41, \"type\": \"output\"})\n",
       "                window.ecco['viz_335942'].redraw()\n",
       "        })\n",
       "        "
      ],
      "text/plain": [
       "<IPython.core.display.Javascript object>"
      ]
     },
     "metadata": {},
     "output_type": "display_data"
    },
    {
     "data": {
      "application/javascript": [
       "\n",
       "        // We don't really need these require scripts. But this is to avert\n",
       "        //this code from running before display_input_sequence which DOES require external files\n",
       "        requirejs(['basic', 'ecco'], function(basic, ecco){\n",
       "                console.log('addToken viz_id', 'viz_335942');\n",
       "                window.ecco['viz_335942'].addToken({\"token\": \"little\", \"is_partial\": false, \"token_id\": 1310, \"position\": 42, \"type\": \"output\"})\n",
       "                window.ecco['viz_335942'].redraw()\n",
       "        })\n",
       "        "
      ],
      "text/plain": [
       "<IPython.core.display.Javascript object>"
      ]
     },
     "metadata": {},
     "output_type": "display_data"
    },
    {
     "data": {
      "application/javascript": [
       "\n",
       "        // We don't really need these require scripts. But this is to avert\n",
       "        //this code from running before display_input_sequence which DOES require external files\n",
       "        requirejs(['basic', 'ecco'], function(basic, ecco){\n",
       "                console.log('addToken viz_id', 'viz_335942');\n",
       "                window.ecco['viz_335942'].addToken({\"token\": \"boy\", \"is_partial\": false, \"token_id\": 2933, \"position\": 43, \"type\": \"output\"})\n",
       "                window.ecco['viz_335942'].redraw()\n",
       "        })\n",
       "        "
      ],
      "text/plain": [
       "<IPython.core.display.Javascript object>"
      ]
     },
     "metadata": {},
     "output_type": "display_data"
    },
    {
     "data": {
      "application/javascript": [
       "\n",
       "        // We don't really need these require scripts. But this is to avert\n",
       "        //this code from running before display_input_sequence which DOES require external files\n",
       "        requirejs(['basic', 'ecco'], function(basic, ecco){\n",
       "                console.log('addToken viz_id', 'viz_335942');\n",
       "                window.ecco['viz_335942'].addToken({\"token\": \",\", \"is_partial\": true, \"token_id\": 11, \"position\": 44, \"type\": \"output\"})\n",
       "                window.ecco['viz_335942'].redraw()\n",
       "        })\n",
       "        "
      ],
      "text/plain": [
       "<IPython.core.display.Javascript object>"
      ]
     },
     "metadata": {},
     "output_type": "display_data"
    },
    {
     "data": {
      "application/javascript": [
       "\n",
       "        // We don't really need these require scripts. But this is to avert\n",
       "        //this code from running before display_input_sequence which DOES require external files\n",
       "        requirejs(['basic', 'ecco'], function(basic, ecco){\n",
       "                console.log('addToken viz_id', 'viz_335942');\n",
       "                window.ecco['viz_335942'].addToken({\"token\": \"the\", \"is_partial\": false, \"token_id\": 262, \"position\": 45, \"type\": \"output\"})\n",
       "                window.ecco['viz_335942'].redraw()\n",
       "        })\n",
       "        "
      ],
      "text/plain": [
       "<IPython.core.display.Javascript object>"
      ]
     },
     "metadata": {},
     "output_type": "display_data"
    },
    {
     "data": {
      "application/javascript": [
       "\n",
       "        // We don't really need these require scripts. But this is to avert\n",
       "        //this code from running before display_input_sequence which DOES require external files\n",
       "        requirejs(['basic', 'ecco'], function(basic, ecco){\n",
       "                console.log('addToken viz_id', 'viz_335942');\n",
       "                window.ecco['viz_335942'].addToken({\"token\": \"little\", \"is_partial\": false, \"token_id\": 1310, \"position\": 46, \"type\": \"output\"})\n",
       "                window.ecco['viz_335942'].redraw()\n",
       "        })\n",
       "        "
      ],
      "text/plain": [
       "<IPython.core.display.Javascript object>"
      ]
     },
     "metadata": {},
     "output_type": "display_data"
    },
    {
     "data": {
      "application/javascript": [
       "\n",
       "        // We don't really need these require scripts. But this is to avert\n",
       "        //this code from running before display_input_sequence which DOES require external files\n",
       "        requirejs(['basic', 'ecco'], function(basic, ecco){\n",
       "                console.log('addToken viz_id', 'viz_335942');\n",
       "                window.ecco['viz_335942'].addToken({\"token\": \"girl\", \"is_partial\": false, \"token_id\": 2576, \"position\": 47, \"type\": \"output\"})\n",
       "                window.ecco['viz_335942'].redraw()\n",
       "        })\n",
       "        "
      ],
      "text/plain": [
       "<IPython.core.display.Javascript object>"
      ]
     },
     "metadata": {},
     "output_type": "display_data"
    },
    {
     "data": {
      "application/javascript": [
       "\n",
       "        // We don't really need these require scripts. But this is to avert\n",
       "        //this code from running before display_input_sequence which DOES require external files\n",
       "        requirejs(['basic', 'ecco'], function(basic, ecco){\n",
       "                console.log('addToken viz_id', 'viz_335942');\n",
       "                window.ecco['viz_335942'].addToken({\"token\": \",\", \"is_partial\": true, \"token_id\": 11, \"position\": 48, \"type\": \"output\"})\n",
       "                window.ecco['viz_335942'].redraw()\n",
       "        })\n",
       "        "
      ],
      "text/plain": [
       "<IPython.core.display.Javascript object>"
      ]
     },
     "metadata": {},
     "output_type": "display_data"
    },
    {
     "data": {
      "application/javascript": [
       "\n",
       "        // We don't really need these require scripts. But this is to avert\n",
       "        //this code from running before display_input_sequence which DOES require external files\n",
       "        requirejs(['basic', 'ecco'], function(basic, ecco){\n",
       "                console.log('addToken viz_id', 'viz_335942');\n",
       "                window.ecco['viz_335942'].addToken({\"token\": \"the\", \"is_partial\": false, \"token_id\": 262, \"position\": 49, \"type\": \"output\"})\n",
       "                window.ecco['viz_335942'].redraw()\n",
       "        })\n",
       "        "
      ],
      "text/plain": [
       "<IPython.core.display.Javascript object>"
      ]
     },
     "metadata": {},
     "output_type": "display_data"
    },
    {
     "data": {
      "application/javascript": [
       "\n",
       "        // We don't really need these require scripts. But this is to avert\n",
       "        //this code from running before display_input_sequence which DOES require external files\n",
       "        requirejs(['basic', 'ecco'], function(basic, ecco){\n",
       "                console.log('addToken viz_id', 'viz_335942');\n",
       "                window.ecco['viz_335942'].addToken({\"token\": \"three\", \"is_partial\": false, \"token_id\": 1115, \"position\": 50, \"type\": \"output\"})\n",
       "                window.ecco['viz_335942'].redraw()\n",
       "        })\n",
       "        "
      ],
      "text/plain": [
       "<IPython.core.display.Javascript object>"
      ]
     },
     "metadata": {},
     "output_type": "display_data"
    },
    {
     "data": {
      "application/javascript": [
       "\n",
       "        // We don't really need these require scripts. But this is to avert\n",
       "        //this code from running before display_input_sequence which DOES require external files\n",
       "        requirejs(['basic', 'ecco'], function(basic, ecco){\n",
       "                console.log('addToken viz_id', 'viz_335942');\n",
       "                window.ecco['viz_335942'].addToken({\"token\": \"other\", \"is_partial\": false, \"token_id\": 584, \"position\": 51, \"type\": \"output\"})\n",
       "                window.ecco['viz_335942'].redraw()\n",
       "        })\n",
       "        "
      ],
      "text/plain": [
       "<IPython.core.display.Javascript object>"
      ]
     },
     "metadata": {},
     "output_type": "display_data"
    },
    {
     "data": {
      "application/javascript": [
       "\n",
       "        // We don't really need these require scripts. But this is to avert\n",
       "        //this code from running before display_input_sequence which DOES require external files\n",
       "        requirejs(['basic', 'ecco'], function(basic, ecco){\n",
       "                console.log('addToken viz_id', 'viz_335942');\n",
       "                window.ecco['viz_335942'].addToken({\"token\": \"children\", \"is_partial\": false, \"token_id\": 1751, \"position\": 52, \"type\": \"output\"})\n",
       "                window.ecco['viz_335942'].redraw()\n",
       "        })\n",
       "        "
      ],
      "text/plain": [
       "<IPython.core.display.Javascript object>"
      ]
     },
     "metadata": {},
     "output_type": "display_data"
    },
    {
     "data": {
      "application/javascript": [
       "\n",
       "        // We don't really need these require scripts. But this is to avert\n",
       "        //this code from running before display_input_sequence which DOES require external files\n",
       "        requirejs(['basic', 'ecco'], function(basic, ecco){\n",
       "                console.log('addToken viz_id', 'viz_335942');\n",
       "                window.ecco['viz_335942'].addToken({\"token\": \",\", \"is_partial\": true, \"token_id\": 11, \"position\": 53, \"type\": \"output\"})\n",
       "                window.ecco['viz_335942'].redraw()\n",
       "        })\n",
       "        "
      ],
      "text/plain": [
       "<IPython.core.display.Javascript object>"
      ]
     },
     "metadata": {},
     "output_type": "display_data"
    },
    {
     "data": {
      "application/javascript": [
       "\n",
       "        // We don't really need these require scripts. But this is to avert\n",
       "        //this code from running before display_input_sequence which DOES require external files\n",
       "        requirejs(['basic', 'ecco'], function(basic, ecco){\n",
       "                console.log('addToken viz_id', 'viz_335942');\n",
       "                window.ecco['viz_335942'].addToken({\"token\": \"all\", \"is_partial\": false, \"token_id\": 477, \"position\": 54, \"type\": \"output\"})\n",
       "                window.ecco['viz_335942'].redraw()\n",
       "        })\n",
       "        "
      ],
      "text/plain": [
       "<IPython.core.display.Javascript object>"
      ]
     },
     "metadata": {},
     "output_type": "display_data"
    },
    {
     "data": {
      "application/javascript": [
       "\n",
       "        // We don't really need these require scripts. But this is to avert\n",
       "        //this code from running before display_input_sequence which DOES require external files\n",
       "        requirejs(['basic', 'ecco'], function(basic, ecco){\n",
       "                console.log('addToken viz_id', 'viz_335942');\n",
       "                window.ecco['viz_335942'].addToken({\"token\": \"over\", \"is_partial\": false, \"token_id\": 625, \"position\": 55, \"type\": \"output\"})\n",
       "                window.ecco['viz_335942'].redraw()\n",
       "        })\n",
       "        "
      ],
      "text/plain": [
       "<IPython.core.display.Javascript object>"
      ]
     },
     "metadata": {},
     "output_type": "display_data"
    }
   ],
   "source": [
    "# Generate 20 tokens to complete the input text.\n",
    "output = lm.generate(text, generate=20, temperature=1, do_sample=True, top_p=0.9, attribution=['ig', 'grad_x_input'])\n",
    "\n",
    "# Ecco will output each token as it is generated.\n",
    "\n",
    "# 'output' now contains the data captured from this run, including the input and output tokens\n",
    "# as well as neuron activations and input saliency values."
   ]
  },
  {
   "cell_type": "code",
   "execution_count": 28,
   "id": "e3edd307",
   "metadata": {},
   "outputs": [
    {
     "data": {
      "text/plain": [
       "ecco.output.OutputSeq"
      ]
     },
     "execution_count": 28,
     "metadata": {},
     "output_type": "execute_result"
    }
   ],
   "source": [
    "# An OutputSeq object is the result of running a language model on some input data. \n",
    "# It contains not only the output sequence of words generated by the model, but \n",
    "# also other data collecting during the generation process that is useful to analyze the model.\n",
    "\n",
    "type(output)"
   ]
  },
  {
   "cell_type": "code",
   "execution_count": 26,
   "id": "00678da4",
   "metadata": {},
   "outputs": [
    {
     "data": {
      "text/html": [
       "<html lang=\"en\">\n",
       "<script src=\"https://requirejs.org/docs/release/2.3.6/minified/require.js\"></script>\n",
       "<script>\n",
       "    var ecco_url = 'https://storage.googleapis.com/ml-intro/ecco/'\n",
       "    //var ecco_url = 'http://localhost:8000/'\n",
       "\n",
       "    if (window.ecco === undefined) window.ecco = {}\n",
       "\n",
       "    // Setup the paths of the script we'll be using\n",
       "    requirejs.config({\n",
       "        urlArgs: \"bust=\" + (new Date()).getTime(),\n",
       "        nodeRequire: require,\n",
       "        paths: {\n",
       "            d3: \"https://d3js.org/d3.v6.min\", // This is only for use in setup.html and basic.html\n",
       "            \"d3-array\": \"https://d3js.org/d3-array.v2.min\",\n",
       "            jquery: \"https://code.jquery.com/jquery-3.5.1.min\",\n",
       "            ecco: ecco_url + 'js/0.0.6/ecco-bundle.min',\n",
       "            xregexp: 'https://cdnjs.cloudflare.com/ajax/libs/xregexp/3.2.0/xregexp-all.min'\n",
       "        }\n",
       "    });\n",
       "\n",
       "    // Add the css file\n",
       "    //requirejs(['d3'],\n",
       "    //    function (d3) {\n",
       "    //        d3.select('#css').attr('href', ecco_url + 'html/styles.css')\n",
       "    //    })\n",
       "\n",
       "    console.log('Ecco initialize!!')\n",
       "\n",
       "    // returns a 'basic' object. basic.init() selects the html div we'll be\n",
       "    // rendering the html into, adds styles.css to the document.\n",
       "    define('basic', ['d3'],\n",
       "        function (d3) {\n",
       "            return {\n",
       "                init: function (viz_id = null) {\n",
       "                    if (viz_id == null) {\n",
       "                        viz_id = \"viz_\" + Math.round(Math.random() * 10000000)\n",
       "                    }\n",
       "                    // Select the div rendered below, change its id\n",
       "                    const div = d3.select('#basic').attr('id', viz_id),\n",
       "                        div_parent = d3.select('#' + viz_id).node().parentNode\n",
       "\n",
       "                    // Link to CSS file\n",
       "                    d3.select(div_parent).insert('link')\n",
       "                        .attr('rel', 'stylesheet')\n",
       "                        .attr('type', 'text/css')\n",
       "                        .attr('href', ecco_url + 'html/0.0.2/styles.css')\n",
       "\n",
       "                    return viz_id\n",
       "                }\n",
       "            }\n",
       "        }, function (err) {\n",
       "            console.log(err);\n",
       "        }\n",
       "    )\n",
       "</script>\n",
       "\n",
       "<head>\n",
       "    <link id='css' rel=\"stylesheet\" type=\"text/css\">\n",
       "</head>\n",
       "<div id=\"basic\"></div>\n"
      ],
      "text/plain": [
       "<IPython.core.display.HTML object>"
      ]
     },
     "metadata": {},
     "output_type": "display_data"
    },
    {
     "data": {
      "application/javascript": [
       "\n",
       "             requirejs(['basic', 'ecco'], function(basic, ecco){\n",
       "                const viz_id = basic.init()\n",
       "                console.log(viz_id)\n",
       "                // ecco.interactiveTokens(viz_id, {})\n",
       "                window.ecco[viz_id] = new ecco.MinimalHighlighter({\n",
       "                    parentDiv: viz_id,\n",
       "                    data: {\"tokens\": [{\"token\": \"There\", \"token_id\": 1858, \"is_partial\": true, \"type\": \"input\", \"value\": \"0.06609868717023216\", \"position\": 0}, {\"token\": \"are\", \"token_id\": 389, \"is_partial\": false, \"type\": \"input\", \"value\": \"0.0422745447593492\", \"position\": 1}, {\"token\": \"two\", \"token_id\": 734, \"is_partial\": false, \"type\": \"input\", \"value\": \"0.01813192054015239\", \"position\": 2}, {\"token\": \"children\", \"token_id\": 1751, \"is_partial\": false, \"type\": \"input\", \"value\": \"0.037858316087279506\", \"position\": 3}, {\"token\": \"and\", \"token_id\": 290, \"is_partial\": false, \"type\": \"input\", \"value\": \"0.04345582499524383\", \"position\": 4}, {\"token\": \"their\", \"token_id\": 511, \"is_partial\": false, \"type\": \"input\", \"value\": \"0.010965266221694976\", \"position\": 5}, {\"token\": \"mother\", \"token_id\": 2802, \"is_partial\": false, \"type\": \"input\", \"value\": \"0.026778858184393753\", \"position\": 6}, {\"token\": \"in\", \"token_id\": 287, \"is_partial\": false, \"type\": \"input\", \"value\": \"0.01262349179009621\", \"position\": 7}, {\"token\": \"the\", \"token_id\": 262, \"is_partial\": false, \"type\": \"input\", \"value\": \"0.023792754804935676\", \"position\": 8}, {\"token\": \"kitchen\", \"token_id\": 9592, \"is_partial\": false, \"type\": \"input\", \"value\": \"0.04003447524702368\", \"position\": 9}, {\"token\": \".\", \"token_id\": 13, \"is_partial\": true, \"type\": \"input\", \"value\": \"0.07830977675152474\", \"position\": 10}, {\"token\": \"The\", \"token_id\": 383, \"is_partial\": false, \"type\": \"input\", \"value\": \"0.024754058833278577\", \"position\": 11}, {\"token\": \"little\", \"token_id\": 1310, \"is_partial\": false, \"type\": \"input\", \"value\": \"0.012943556344759213\", \"position\": 12}, {\"token\": \"boy\", \"token_id\": 2933, \"is_partial\": false, \"type\": \"input\", \"value\": \"0.014268401001497927\", \"position\": 13}, {\"token\": \"has\", \"token_id\": 468, \"is_partial\": false, \"type\": \"input\", \"value\": \"0.009669226654988417\", \"position\": 14}, {\"token\": \"climbed\", \"token_id\": 19952, \"is_partial\": false, \"type\": \"input\", \"value\": \"0.015067681394343122\", \"position\": 15}, {\"token\": \"up\", \"token_id\": 510, \"is_partial\": false, \"type\": \"input\", \"value\": \"0.007169250441212169\", \"position\": 16}, {\"token\": \",\", \"token_id\": 11, \"is_partial\": true, \"type\": \"input\", \"value\": \"0.041065667598822055\", \"position\": 17}, {\"token\": \"on\", \"token_id\": 319, \"is_partial\": false, \"type\": \"input\", \"value\": \"0.010511367198285538\", \"position\": 18}, {\"token\": \"a\", \"token_id\": 257, \"is_partial\": false, \"type\": \"input\", \"value\": \"0.019145913635269636\", \"position\": 19}, {\"token\": \"three\", \"token_id\": 1115, \"is_partial\": false, \"type\": \"input\", \"value\": \"0.008728161085107934\", \"position\": 20}, {\"token\": \"le\", \"token_id\": 443, \"is_partial\": false, \"type\": \"input\", \"value\": \"0.014949007401069563\", \"position\": 21}, {\"token\": \"gged\", \"token_id\": 11178, \"is_partial\": true, \"type\": \"input\", \"value\": \"0.02744507570158057\", \"position\": 22}, {\"token\": \"stool\", \"token_id\": 38753, \"is_partial\": false, \"type\": \"input\", \"value\": \"0.09375726718779101\", \"position\": 23}, {\"token\": \"to\", \"token_id\": 284, \"is_partial\": false, \"type\": \"input\", \"value\": \"0.009577714433390231\", \"position\": 24}, {\"token\": \"get\", \"token_id\": 651, \"is_partial\": false, \"type\": \"input\", \"value\": \"0.017856620497538882\", \"position\": 25}, {\"token\": \"some\", \"token_id\": 617, \"is_partial\": false, \"type\": \"input\", \"value\": \"0.014522058177233352\", \"position\": 26}, {\"token\": \"cookies\", \"token_id\": 14746, \"is_partial\": false, \"type\": \"input\", \"value\": \"0.024912338371037474\", \"position\": 27}, {\"token\": \"from\", \"token_id\": 422, \"is_partial\": false, \"type\": \"input\", \"value\": \"0.012333409814888108\", \"position\": 28}, {\"token\": \"the\", \"token_id\": 262, \"is_partial\": false, \"type\": \"input\", \"value\": \"0.010416621254905112\", \"position\": 29}, {\"token\": \"jar\", \"token_id\": 17379, \"is_partial\": false, \"type\": \"input\", \"value\": \"0.028305882051300593\", \"position\": 30}, {\"token\": \"in\", \"token_id\": 287, \"is_partial\": false, \"type\": \"input\", \"value\": \"0.009059742292896085\", \"position\": 31}, {\"token\": \"the\", \"token_id\": 262, \"is_partial\": false, \"type\": \"input\", \"value\": \"0.013096345294649994\", \"position\": 32}, {\"token\": \"cup\", \"token_id\": 6508, \"is_partial\": false, \"type\": \"input\", \"value\": \"0.017197545194149514\", \"position\": 33}, {\"token\": \"board\", \"token_id\": 3526, \"is_partial\": true, \"type\": \"input\", \"value\": \"0.0382624471220516\", \"position\": 34}, {\"token\": \".\", \"token_id\": 13, \"is_partial\": true, \"type\": \"input\", \"value\": \"0.10466072446602732\", \"position\": 35}, {\"token\": \"\\n\", \"token_id\": 198, \"is_partial\": true, \"type\": \"output\", \"value\": \"0\", \"position\": 36}, {\"token\": \"\\n\", \"token_id\": 198, \"is_partial\": true, \"type\": \"output\", \"value\": \"0\", \"position\": 37}, {\"token\": \"\\\"\", \"token_id\": 1, \"is_partial\": true, \"type\": \"output\", \"value\": \"0\", \"position\": 38}, {\"token\": \"We\", \"token_id\": 1135, \"is_partial\": true, \"type\": \"output\", \"value\": \"0\", \"position\": 39}, {\"token\": \"have\", \"token_id\": 423, \"is_partial\": false, \"type\": \"output\", \"value\": \"0\", \"position\": 40}, {\"token\": \"the\", \"token_id\": 262, \"is_partial\": false, \"type\": \"output\", \"value\": \"0\", \"position\": 41}, {\"token\": \"little\", \"token_id\": 1310, \"is_partial\": false, \"type\": \"output\", \"value\": \"0\", \"position\": 42}, {\"token\": \"boy\", \"token_id\": 2933, \"is_partial\": false, \"type\": \"output\", \"value\": \"0\", \"position\": 43}, {\"token\": \",\", \"token_id\": 11, \"is_partial\": true, \"type\": \"output\", \"value\": \"0\", \"position\": 44}, {\"token\": \"the\", \"token_id\": 262, \"is_partial\": false, \"type\": \"output\", \"value\": \"0\", \"position\": 45}, {\"token\": \"little\", \"token_id\": 1310, \"is_partial\": false, \"type\": \"output\", \"value\": \"0\", \"position\": 46}, {\"token\": \"girl\", \"token_id\": 2576, \"is_partial\": false, \"type\": \"output\", \"value\": \"0\", \"position\": 47}, {\"token\": \",\", \"token_id\": 11, \"is_partial\": true, \"type\": \"output\", \"value\": \"0\", \"position\": 48}, {\"token\": \"the\", \"token_id\": 262, \"is_partial\": false, \"type\": \"output\", \"value\": \"0\", \"position\": 49}, {\"token\": \"three\", \"token_id\": 1115, \"is_partial\": false, \"type\": \"output\", \"value\": \"0\", \"position\": 50}, {\"token\": \"other\", \"token_id\": 584, \"is_partial\": false, \"type\": \"output\", \"value\": \"0\", \"position\": 51}, {\"token\": \"children\", \"token_id\": 1751, \"is_partial\": false, \"type\": \"output\", \"value\": \"0\", \"position\": 52}, {\"token\": \",\", \"token_id\": 11, \"is_partial\": true, \"type\": \"output\", \"value\": \"0\", \"position\": 53}, {\"token\": \"all\", \"token_id\": 477, \"is_partial\": false, \"type\": \"output\", \"value\": \"0\", \"position\": 54}, {\"token\": \"over\", \"token_id\": 625, \"is_partial\": false, \"type\": \"output\", \"value\": \"0\", \"position\": 55}], \"attributions\": [[0.06609868717023216, 0.0422745447593492, 0.01813192054015239, 0.037858316087279506, 0.04345582499524383, 0.010965266221694976, 0.026778858184393753, 0.01262349179009621, 0.023792754804935676, 0.04003447524702368, 0.07830977675152474, 0.024754058833278577, 0.012943556344759213, 0.014268401001497927, 0.009669226654988417, 0.015067681394343122, 0.007169250441212169, 0.041065667598822055, 0.010511367198285538, 0.019145913635269636, 0.008728161085107934, 0.014949007401069563, 0.02744507570158057, 0.09375726718779101, 0.009577714433390231, 0.017856620497538882, 0.014522058177233352, 0.024912338371037474, 0.012333409814888108, 0.010416621254905112, 0.028305882051300593, 0.009059742292896085, 0.013096345294649994, 0.017197545194149514, 0.0382624471220516, 0.10466072446602732], [0.06754061083923707, 0.06763091505695125, 0.018584845828749794, 0.02777579712924717, 0.02024874401781695, 0.012083320485629526, 0.017967270927012495, 0.011246523048268956, 0.013306848240266235, 0.016997572320882913, 0.029767638773532633, 0.02168982005914159, 0.010692707856413072, 0.011986216892595452, 0.0092360321446232, 0.015630744323466096, 0.008343333932940723, 0.02053805774631111, 0.007892423485551955, 0.01375364421009016, 0.008769504468332743, 0.012789545992302868, 0.025185005713644168, 0.024973449131347983, 0.008795375876072235, 0.008001606056054052, 0.010410655593936205, 0.04901297296312784, 0.010132039957253217, 0.01658835030838876, 0.032728210559644186, 0.03107529895984518, 0.0331657315852987, 0.025908908690254542, 0.04574550653760303, 0.09916287988852614, 0.13464189039963975], [0.06314940789366491, 0.03504275584772432, 0.015745460405628853, 0.028100061381958693, 0.044820121883258325, 0.009316378758969061, 0.01971484412980306, 0.01684770102385024, 0.025234873872840437, 0.038325018102431475, 0.04979205638893595, 0.019145958446571822, 0.042854085614128186, 0.03615839532551933, 0.016403830387698378, 0.07784543314437319, 0.02210707313574434, 0.017754256602426174, 0.009275287356913223, 0.007145099482779511, 0.011745033252984007, 0.019566053778638435, 0.04833019358032976, 0.038463681094454395, 0.007105423778347664, 0.016528586178746744, 0.02241420442370414, 0.04110264826081508, 0.009166754444212326, 0.00683410543758832, 0.02785002665979353, 0.009317755279976138, 0.007009113530447256, 0.02723970295253612, 0.024307011804293094, 0.030687980402097182, 0.030112366566855973, 0.027441259388960186], [0.0507567606813661, 0.024219985244362918, 0.022786481168939582, 0.04236760178151193, 0.014480628080402692, 0.014237207036350086, 0.029333820256897666, 0.01043022503941737, 0.013372032216765316, 0.05395511671193499, 0.01768313165794716, 0.014568070726268662, 0.02573891111055163, 0.03196374344782306, 0.027081965930294015, 0.05357393574643709, 0.008941844919212802, 0.010143079012637815, 0.008611102717835778, 0.008675637756559438, 0.013713460505560604, 0.0413786092874865, 0.061531781963398126, 0.05047135564150904, 0.006996571891928874, 0.010426206267684889, 0.014682195319581662, 0.05310912367318654, 0.007677449987847598, 0.009658206786283393, 0.04015271623302051, 0.006943593160144828, 0.007068316110649597, 0.036626773235635374, 0.04448285345656952, 0.02349619698677657, 0.019114814387154212, 0.01902446277781326, 0.05052403108425278], [0.06770534975456953, 0.0628253072638503, 0.020361434242382116, 0.027447492244031264, 0.014632589048241012, 0.012774795116611705, 0.016820762452986648, 0.015670860171271138, 0.010172126382222722, 0.02619899951415376, 0.019581401208238522, 0.011262431750179082, 0.01518746323247166, 0.02241251512249029, 0.04737548820740051, 0.02355126623750039, 0.011289435137127454, 0.009010628110607119, 0.008654213907419116, 0.008000909768152627, 0.007314523363771246, 0.01552166087661212, 0.027234717936914, 0.04272820023440254, 0.007759941006661956, 0.01402074642066256, 0.010857403023332135, 0.040494288739039645, 0.008182077870445954, 0.008133879345024844, 0.019424555662892043, 0.006302556703346172, 0.008545399350206763, 0.022988646993573822, 0.04878699030526152, 0.029768278525570707, 0.026616790819725976, 0.029158054441519515, 0.0374107002289507, 0.1378151192801788], [0.10954849607163607, 0.09893651083887774, 0.05011250726644829, 0.043110528714152274, 0.016869046953292593, 0.0220784807017025, 0.026036632710878995, 0.011144146481031677, 0.013027154909480072, 0.019327648843025, 0.009768854012120898, 0.015479138850039985, 0.012766644374770318, 0.013602048618257135, 0.010072959392394167, 0.02880192747162592, 0.009804087283997677, 0.010440261219951117, 0.011553308993963481, 0.016776024228133853, 0.012678590368622388, 0.013683168803115188, 0.025771039547725128, 0.021132439434131452, 0.011802161929403426, 0.011460218976883315, 0.01437248192322139, 0.017721343768055946, 0.011763943702410235, 0.02189494581610922, 0.014180825310234093, 0.011547511951138924, 0.014625911029717218, 0.0154770364228124, 0.016359411287800576, 0.018848534155678505, 0.018091775861408654, 0.020192448225273576, 0.026679000953491756, 0.03917647335302544, 0.09328432924396143], [0.03502342890234007, 0.017637387007541656, 0.013222930352631229, 0.03318980120775061, 0.017752906515239957, 0.00842297293600743, 0.012224961540081495, 0.011373772304860965, 0.01354316757905944, 0.04079945300613235, 0.0357557061608057, 0.03808451490072763, 0.13857219523129527, 0.012260774989499176, 0.006747243180654225, 0.014399748011239449, 0.006903678113071293, 0.013662248004427115, 0.007991689635770044, 0.009076363144216764, 0.010250650991629506, 0.01573770165209659, 0.024433464337326904, 0.07369276656224656, 0.015949472654612384, 0.006092912494122807, 0.00583572359253304, 0.029799765451780917, 0.010189535715521239, 0.006096148156654983, 0.020472936260545076, 0.009977361438708103, 0.007333002712400233, 0.015740942559626995, 0.04063539610332191, 0.007045067350003222, 0.009086685135813927, 0.015443827402739507, 0.04118126806134667, 0.02452657100163057, 0.05790375050408276, 0.06593010713790409], [0.049256311246127574, 0.028335930946555423, 0.01745476877294263, 0.039714636151765, 0.035654290950016904, 0.009584568813128589, 0.026766122294475763, 0.00822339842964992, 0.011621523991632448, 0.02625126116742724, 0.01914926924456844, 0.017677150029678276, 0.052461967218079684, 0.10485277632783155, 0.00724964126464046, 0.024274736786669967, 0.010760877590279678, 0.01621449576871992, 0.003973852441656284, 0.005076919800394608, 0.007579303518819681, 0.011130538752625005, 0.023063034255774988, 0.024567828693706772, 0.006469822342232207, 0.009020744511972394, 0.010346267104696763, 0.02286022233377327, 0.003759460540134285, 0.009389991584711564, 0.02241280226196274, 0.008848197965974384, 0.013302713081075794, 0.012644938265609064, 0.039561813333753415, 0.022724654406189853, 0.019953091210436417, 0.019448663496354136, 0.014900490551859547, 0.021604201094551218, 0.022611629658700408, 0.02795600602784215, 0.11128908577100362], [0.033140355233653086, 0.03451189007877281, 0.018492477739933743, 0.0292102448159253, 0.047837883929151066, 0.011571956280495765, 0.017161493046040976, 0.018055789858150196, 0.03173858758738113, 0.014285030370698537, 0.03318177230334078, 0.01088431814546725, 0.01477267028625433, 0.013338469928653389, 0.028312497943572674, 0.02309943509394964, 0.006679792946520294, 0.025379195207778742, 0.010877753360785426, 0.008774577965817482, 0.010402978349094327, 0.009398740782368584, 0.018853151634153614, 0.044688229598587294, 0.008255062156166414, 0.008559711592859318, 0.006525648220225122, 0.01912594832690596, 0.0053768805982166755, 0.012358284875047629, 0.016523792054563505, 0.012298819708330385, 0.01892618539123511, 0.013049014688821746, 0.04374042711311548, 0.039570751412983586, 0.02580877104226833, 0.020209980946296852, 0.023524530310375928, 0.038452380737724286, 0.04179784745889464, 0.018074483585368818, 0.02628181908996984, 0.08689036820408393], [0.0706707672604816, 0.055803371666886196, 0.03475378169878321, 0.034114682220884346, 0.011420975586581315, 0.018102011041392946, 0.02334551094408306, 0.010248670413325096, 0.013739446567783122, 0.018856686664057733, 0.014449498331550693, 0.014289667524328534, 0.014392882837174586, 0.020252122012470918, 0.011457523130733302, 0.019068800014406397, 0.013125114153665065, 0.03869081104462313, 0.022194534796726582, 0.01476630539339458, 0.01460438287164294, 0.014864458952369234, 0.02713970591931497, 0.031021495273594556, 0.009256189818169743, 0.010918655701000559, 0.010277346570405282, 0.01957793614009921, 0.009703891069638986, 0.026542598146479614, 0.021103456404448318, 0.018973708720842343, 0.02731351475324278, 0.01692927354042167, 0.018468584889358756, 0.013011507236715023, 0.01073160909189476, 0.01114039299174678, 0.00964024489679407, 0.015520808108095984, 0.0114764511255311, 0.018205363654286072, 0.020510283997439017, 0.030074477993269535, 0.1092504988298663], [0.07154058886825727, 0.02889028157055496, 0.013141679099346952, 0.03451627011081513, 0.011437144628565253, 0.012998274953265014, 0.014600233055738022, 0.010333451206663501, 0.00813149495239217, 0.03009488265386677, 0.009883195819680021, 0.012260564514693179, 0.04837407918020312, 0.02243514188767415, 0.01771922801834231, 0.01860088064542311, 0.006509009339431972, 0.026404342463718918, 0.007275195897969143, 0.005770030252269674, 0.004540393135163843, 0.010915832404594707, 0.0201312317734243, 0.023826060551197816, 0.004118725806900695, 0.005196702151464379, 0.008303724659105739, 0.030095909000906744, 0.00540289203373427, 0.006047519251055346, 0.020656994177741743, 0.00785682762980499, 0.010172258484120629, 0.01432833451483577, 0.01949875544487834, 0.019000709798262932, 0.013969997156755126, 0.01626294079733186, 0.031419793159509254, 0.03621510420931297, 0.02970358649388133, 0.07064936769702423, 0.03751456683701849, 0.024545479533203452, 0.06923463946307873, 0.04947568471682163], [0.03890466447003651, 0.013295791661608977, 0.014932490621608159, 0.03655164053140783, 0.012019215158906535, 0.010035403399846207, 0.03242494344338491, 0.008323000121822542, 0.011763079399143873, 0.02059191222287155, 0.01531607844602485, 0.019152081061897, 0.03166249858377902, 0.0804275504557045, 0.017583427341477265, 0.02764299678332682, 0.005423955186426095, 0.04142556499307042, 0.006224614969340963, 0.005265800373484079, 0.0074719192650713785, 0.011971413174076124, 0.024866015840648743, 0.02250538940641747, 0.003930588666756768, 0.007019764974013449, 0.006722486285078211, 0.026643749462339144, 0.0053333157618842605, 0.004170913703084745, 0.020525010174889287, 0.0031543349701390476, 0.0038541135563679046, 0.01546263345575408, 0.014858798753654787, 0.01900558993482101, 0.011521546003269382, 0.009754551364734094, 0.040505584256212764, 0.06140401556256902, 0.03961799501352123, 0.01077953350192255, 0.03542766698165103, 0.053288259039863714, 0.04831392764067494, 0.00944866171699615, 0.03347551230842051], [0.058113347689875715, 0.04011161241627705, 0.020049627584478497, 0.030277104628845277, 0.031084549323845474, 0.016641913445544037, 0.021221074706075878, 0.021983191384703348, 0.024552298720432904, 0.0180954663336477, 0.031234078300073607, 0.013328911232658535, 0.01107714335584979, 0.011419871037515407, 0.009590458353867933, 0.017316244028079856, 0.0059921052416600775, 0.018136990938104697, 0.0065633116905065925, 0.009342898125726072, 0.008905170876589435, 0.013063799832680842, 0.026785770664844166, 0.037173185167644666, 0.006914719213383953, 0.004156421258815533, 0.004522508186632746, 0.017682451722497508, 0.004381789946231169, 0.006426392028681245, 0.01472868125214174, 0.003454743692251505, 0.006095843858813874, 0.01437975990774508, 0.0112949648918387, 0.015348584276223785, 0.012570928174288813, 0.009285774866262574, 0.013461151628344464, 0.01317073664607889, 0.012956705952961944, 0.02063187384053566, 0.022823193926521258, 0.02120550317733481, 0.11684591613246909, 0.020418207693028025, 0.03439865448240721, 0.0907843681649829], [0.06558900500830674, 0.05928570800251227, 0.04178144228381111, 0.031252864613985354, 0.014339449777635523, 0.017728686026164512, 0.023961586070450045, 0.008944113006539245, 0.01242446205756899, 0.01771314225869582, 0.01270895180381482, 0.01401659560004794, 0.01220284309012188, 0.015501380575974775, 0.010135399841873465, 0.01871944967888663, 0.009959822857260731, 0.02073631281327594, 0.009999400178824348, 0.011358437625036135, 0.012980160041468078, 0.014140646012954762, 0.023181927258037343, 0.019111450977158977, 0.007692611322672395, 0.007552468348838325, 0.00915198340128133, 0.013822352137211986, 0.00812907837155455, 0.014466211146431204, 0.01281559338005561, 0.010666271577226645, 0.012670705365328517, 0.012417219630676445, 0.016165690119980543, 0.019913254926534802, 0.013582727677491056, 0.012185294225864809, 0.012812875212398735, 0.024637553607637388, 0.023664833754564248, 0.012736810371334624, 0.0187311356474474, 0.01697668601704763, 0.04168809626740695, 0.03686004511726402, 0.022960311398598988, 0.030754141273718286, 0.0891728122410281], [0.027332848266098646, 0.015464058432355004, 0.017729696296919215, 0.026088889175396, 0.015977937379778002, 0.006915165045871915, 0.018169761417220966, 0.012351776158768651, 0.013619881480881151, 0.02281551396357446, 0.018397322461063934, 0.010338845781370863, 0.040285322959813755, 0.02969771853161801, 0.0104716522273402, 0.02232992263924766, 0.004507005101582512, 0.035081244324037454, 0.00604512103086807, 0.009369515955669806, 0.019262494039311795, 0.015263978531532872, 0.02791668847973756, 0.02350787180323115, 0.006731353535477145, 0.006640446467222148, 0.00627815962897305, 0.023671571196044943, 0.004983325268229981, 0.004470847032232872, 0.01888254195699557, 0.003829685757915147, 0.005488792206032374, 0.015038425497325168, 0.01597374726409663, 0.014843701384700482, 0.010687190032737114, 0.010615985267594831, 0.028234331948309203, 0.03680904916593068, 0.029412990210568247, 0.013180592317057444, 0.0465806275322705, 0.05147938103672726, 0.01957276722302431, 0.02674761037183519, 0.05941326028097597, 0.060549097023714006, 0.012714694860093372, 0.01822959405062673], [0.019724946710607913, 0.011608648511533788, 0.015323742112399692, 0.025695485242579, 0.012947245304730192, 0.00726052743493614, 0.013960722383992569, 0.006172584598757086, 0.0052301953916010285, 0.024960957943971438, 0.007434892536885972, 0.0092644489193539, 0.022602508811294927, 0.0202594908434899, 0.009565055947218412, 0.02504175395783167, 0.005336020108770252, 0.015591688220585372, 0.008155814401913587, 0.015431294125307088, 0.049268504798621215, 0.0715795576598076, 0.02460379947299009, 0.019132608999022877, 0.004207532575155074, 0.005550200769565137, 0.0038534458944384097, 0.02016622517635499, 0.0053615804686494755, 0.004840693880626553, 0.014879074568657275, 0.004034607814267593, 0.006433647825125064, 0.014272574174880061, 0.01418805530139527, 0.022147572904726052, 0.0076249904779607915, 0.008365475137830623, 0.0207340039196171, 0.0251331121574221, 0.016098963537096587, 0.009244971835074863, 0.01749392495704233, 0.03599273070614718, 0.012751227036040492, 0.034950155184038635, 0.033206098602138745, 0.07833738573519727, 0.019480336050858804, 0.04010123753189463, 0.07439768133959726], [0.054784602513514725, 0.019394171867128274, 0.024250427532990722, 0.05137065986300806, 0.019368796854519327, 0.007918022592975369, 0.029468048000091073, 0.006928776808835887, 0.011102500882629714, 0.0476555257660379, 0.025974368566662135, 0.00842444166196712, 0.025004519431408453, 0.034996532658113345, 0.00813528197053508, 0.023127659122145944, 0.009039080001413655, 0.007833955721185408, 0.004785137843747937, 0.004341338667144435, 0.026361522722133223, 0.019466907848167684, 0.03773674885233971, 0.031605542656488884, 0.004000973443486236, 0.008685381595138417, 0.005513634296311281, 0.034832881984267434, 0.004143722136408048, 0.0029416517093886242, 0.02278179617635498, 0.0035357334178479603, 0.0037917745614725862, 0.017768585268699386, 0.0311972042642325, 0.01004130045498851, 0.012260952489512731, 0.014109089832873314, 0.01700433012051812, 0.009757595325356392, 0.006450175958336175, 0.006006978204688272, 0.01737526146945293, 0.03657355208724012, 0.006177619621696815, 0.0067172070794659115, 0.016945311509031537, 0.036036404203804426, 0.021959383913795736, 0.007837955058973502, 0.060885511498375844, 0.03559346191309813], [0.0488780741356466, 0.03651369976565644, 0.01971067576120224, 0.03222466179679183, 0.03185044023094073, 0.011589450055508922, 0.020456471266331898, 0.014950288922551937, 0.02307325993184549, 0.018559603848112095, 0.027658050656929386, 0.011093218854934967, 0.007854499771986163, 0.009043864077600647, 0.007177312355878599, 0.01617705302593684, 0.006866478745007264, 0.01718526289869046, 0.00721763713352553, 0.008661042829229451, 0.009449718087201448, 0.013794854097112352, 0.02932539200195499, 0.03633575264034382, 0.0060157825586519015, 0.004388452041332229, 0.0042178169424101, 0.013219739859806214, 0.004610988196536759, 0.004896660670793602, 0.010445551031460904, 0.0036217602344144058, 0.00461159218207899, 0.010321627677658575, 0.010058954142176337, 0.009662373224744527, 0.010358390308645438, 0.006388917996138903, 0.014304869882390365, 0.018060363286893668, 0.019740570824825412, 0.011559217824031605, 0.00941641511223383, 0.01225439886173343, 0.05679282922671379, 0.023231079588244413, 0.023519098887461034, 0.03678739188070179, 0.05608405609590821, 0.01361972706770515, 0.020690313904020503, 0.03806750445016958, 0.07740679314919831], [0.02786820244593225, 0.011950792321266822, 0.013619287340923124, 0.020382274825026237, 0.0316116546832433, 0.009486583591174557, 0.016158408732302856, 0.010496641637112059, 0.009362779392083277, 0.02664712506367876, 0.01019215775003234, 0.012910039082946155, 0.013713384411656928, 0.020268712855595863, 0.014003915041381276, 0.029187485007889775, 0.006688471503910746, 0.03077738368142493, 0.009377168588656537, 0.010259578502979786, 0.023513039700695217, 0.01794168700090117, 0.02625505789138228, 0.02218909336357364, 0.005914575978204024, 0.008727398866434649, 0.011556569931084688, 0.03034199619506183, 0.006744952731883327, 0.016225610484252733, 0.018690999459094457, 0.005358789603400332, 0.012835314418243527, 0.020494570315979486, 0.020988019708105283, 0.01826702660890785, 0.0126229366815453, 0.012175675261262885, 0.02437361439346215, 0.017805164194499786, 0.017783067677859442, 0.008710259900928061, 0.011388023797689028, 0.013778316843134611, 0.010747435234208751, 0.02699386728518567, 0.011272221808347247, 0.020432090652295797, 0.02887648976954034, 0.046443262054522344, 0.02778555296048799, 0.029059923324213692, 0.025859825782180844, 0.052885523662213926], [0.048527955792444614, 0.035728694616581104, 0.033181455982125754, 0.02035796908774033, 0.01037645069299432, 0.013618744718311857, 0.013488504819652775, 0.005759327405133984, 0.010161959339997553, 0.02416383613938837, 0.012763401988529106, 0.01150914087624997, 0.012305896088588725, 0.013377154792493148, 0.011859949704990505, 0.03327795168449377, 0.007460278862194158, 0.009011346667134839, 0.00652557262440585, 0.005870943760701492, 0.009369866411601964, 0.015578566629695683, 0.039340283908500036, 0.03008894228430851, 0.005607361966275272, 0.00617302201483065, 0.00798210137261664, 0.01910179900058738, 0.006048392023705267, 0.012611475404532146, 0.014224582621517561, 0.004395201412198558, 0.008529940294793897, 0.011994780548917484, 0.012632929999691732, 0.008437106447095808, 0.007914864432471224, 0.010105311063427935, 0.016950222780329958, 0.018136610869998716, 0.01184281116889545, 0.013320964838783934, 0.017859095176462066, 0.023227616168486523, 0.011775149491301378, 0.023783763709155595, 0.01452542272732659, 0.02835992239190556, 0.04307872139828006, 0.025571052599474526, 0.02440672114179918, 0.041222936336724955, 0.026597585237120504, 0.019508500154568113, 0.07036984032846685]]},\n",
       "                    preset: 'viridis',\n",
       "                    tokenization_config: {\"token_prefix\": \"\\u0120\", \"partial_token_prefix\": \"\"}\n",
       "\n",
       "             })\n",
       "\n",
       "             window.ecco[viz_id].init();\n",
       "             window.ecco[viz_id].selectFirstToken();\n",
       "\n",
       "             }, function (err) {\n",
       "                console.log(err);\n",
       "            })"
      ],
      "text/plain": [
       "<IPython.core.display.Javascript object>"
      ]
     },
     "metadata": {},
     "output_type": "display_data"
    }
   ],
   "source": [
    "output.primary_attributions(attr_method='ig')"
   ]
  },
  {
   "cell_type": "code",
   "execution_count": 27,
   "id": "05491c67",
   "metadata": {},
   "outputs": [
    {
     "data": {
      "text/html": [
       "<html lang=\"en\">\n",
       "<script src=\"https://requirejs.org/docs/release/2.3.6/minified/require.js\"></script>\n",
       "<script>\n",
       "    var ecco_url = 'https://storage.googleapis.com/ml-intro/ecco/'\n",
       "    //var ecco_url = 'http://localhost:8000/'\n",
       "\n",
       "    if (window.ecco === undefined) window.ecco = {}\n",
       "\n",
       "    // Setup the paths of the script we'll be using\n",
       "    requirejs.config({\n",
       "        urlArgs: \"bust=\" + (new Date()).getTime(),\n",
       "        nodeRequire: require,\n",
       "        paths: {\n",
       "            d3: \"https://d3js.org/d3.v6.min\", // This is only for use in setup.html and basic.html\n",
       "            \"d3-array\": \"https://d3js.org/d3-array.v2.min\",\n",
       "            jquery: \"https://code.jquery.com/jquery-3.5.1.min\",\n",
       "            ecco: ecco_url + 'js/0.0.6/ecco-bundle.min',\n",
       "            xregexp: 'https://cdnjs.cloudflare.com/ajax/libs/xregexp/3.2.0/xregexp-all.min'\n",
       "        }\n",
       "    });\n",
       "\n",
       "    // Add the css file\n",
       "    //requirejs(['d3'],\n",
       "    //    function (d3) {\n",
       "    //        d3.select('#css').attr('href', ecco_url + 'html/styles.css')\n",
       "    //    })\n",
       "\n",
       "    console.log('Ecco initialize!!')\n",
       "\n",
       "    // returns a 'basic' object. basic.init() selects the html div we'll be\n",
       "    // rendering the html into, adds styles.css to the document.\n",
       "    define('basic', ['d3'],\n",
       "        function (d3) {\n",
       "            return {\n",
       "                init: function (viz_id = null) {\n",
       "                    if (viz_id == null) {\n",
       "                        viz_id = \"viz_\" + Math.round(Math.random() * 10000000)\n",
       "                    }\n",
       "                    // Select the div rendered below, change its id\n",
       "                    const div = d3.select('#basic').attr('id', viz_id),\n",
       "                        div_parent = d3.select('#' + viz_id).node().parentNode\n",
       "\n",
       "                    // Link to CSS file\n",
       "                    d3.select(div_parent).insert('link')\n",
       "                        .attr('rel', 'stylesheet')\n",
       "                        .attr('type', 'text/css')\n",
       "                        .attr('href', ecco_url + 'html/0.0.2/styles.css')\n",
       "\n",
       "                    return viz_id\n",
       "                }\n",
       "            }\n",
       "        }, function (err) {\n",
       "            console.log(err);\n",
       "        }\n",
       "    )\n",
       "</script>\n",
       "\n",
       "<head>\n",
       "    <link id='css' rel=\"stylesheet\" type=\"text/css\">\n",
       "</head>\n",
       "<div id=\"basic\"></div>\n"
      ],
      "text/plain": [
       "<IPython.core.display.HTML object>"
      ]
     },
     "metadata": {},
     "output_type": "display_data"
    },
    {
     "data": {
      "application/javascript": [
       "\n",
       "             requirejs(['basic', 'ecco'], function(basic, ecco){\n",
       "                const viz_id = basic.init()\n",
       "                console.log(viz_id)\n",
       "                window.ecco[viz_id] = ecco.interactiveTokens({\n",
       "                    parentDiv: viz_id,\n",
       "                    data: {\"tokens\": [{\"token\": \"There\", \"token_id\": 1858, \"is_partial\": true, \"type\": \"input\", \"value\": \"0.06609868717023216\", \"position\": 0}, {\"token\": \"are\", \"token_id\": 389, \"is_partial\": false, \"type\": \"input\", \"value\": \"0.0422745447593492\", \"position\": 1}, {\"token\": \"two\", \"token_id\": 734, \"is_partial\": false, \"type\": \"input\", \"value\": \"0.01813192054015239\", \"position\": 2}, {\"token\": \"children\", \"token_id\": 1751, \"is_partial\": false, \"type\": \"input\", \"value\": \"0.037858316087279506\", \"position\": 3}, {\"token\": \"and\", \"token_id\": 290, \"is_partial\": false, \"type\": \"input\", \"value\": \"0.04345582499524383\", \"position\": 4}, {\"token\": \"their\", \"token_id\": 511, \"is_partial\": false, \"type\": \"input\", \"value\": \"0.010965266221694976\", \"position\": 5}, {\"token\": \"mother\", \"token_id\": 2802, \"is_partial\": false, \"type\": \"input\", \"value\": \"0.026778858184393753\", \"position\": 6}, {\"token\": \"in\", \"token_id\": 287, \"is_partial\": false, \"type\": \"input\", \"value\": \"0.01262349179009621\", \"position\": 7}, {\"token\": \"the\", \"token_id\": 262, \"is_partial\": false, \"type\": \"input\", \"value\": \"0.023792754804935676\", \"position\": 8}, {\"token\": \"kitchen\", \"token_id\": 9592, \"is_partial\": false, \"type\": \"input\", \"value\": \"0.04003447524702368\", \"position\": 9}, {\"token\": \".\", \"token_id\": 13, \"is_partial\": true, \"type\": \"input\", \"value\": \"0.07830977675152474\", \"position\": 10}, {\"token\": \"The\", \"token_id\": 383, \"is_partial\": false, \"type\": \"input\", \"value\": \"0.024754058833278577\", \"position\": 11}, {\"token\": \"little\", \"token_id\": 1310, \"is_partial\": false, \"type\": \"input\", \"value\": \"0.012943556344759213\", \"position\": 12}, {\"token\": \"boy\", \"token_id\": 2933, \"is_partial\": false, \"type\": \"input\", \"value\": \"0.014268401001497927\", \"position\": 13}, {\"token\": \"has\", \"token_id\": 468, \"is_partial\": false, \"type\": \"input\", \"value\": \"0.009669226654988417\", \"position\": 14}, {\"token\": \"climbed\", \"token_id\": 19952, \"is_partial\": false, \"type\": \"input\", \"value\": \"0.015067681394343122\", \"position\": 15}, {\"token\": \"up\", \"token_id\": 510, \"is_partial\": false, \"type\": \"input\", \"value\": \"0.007169250441212169\", \"position\": 16}, {\"token\": \",\", \"token_id\": 11, \"is_partial\": true, \"type\": \"input\", \"value\": \"0.041065667598822055\", \"position\": 17}, {\"token\": \"on\", \"token_id\": 319, \"is_partial\": false, \"type\": \"input\", \"value\": \"0.010511367198285538\", \"position\": 18}, {\"token\": \"a\", \"token_id\": 257, \"is_partial\": false, \"type\": \"input\", \"value\": \"0.019145913635269636\", \"position\": 19}, {\"token\": \"three\", \"token_id\": 1115, \"is_partial\": false, \"type\": \"input\", \"value\": \"0.008728161085107934\", \"position\": 20}, {\"token\": \"le\", \"token_id\": 443, \"is_partial\": false, \"type\": \"input\", \"value\": \"0.014949007401069563\", \"position\": 21}, {\"token\": \"gged\", \"token_id\": 11178, \"is_partial\": true, \"type\": \"input\", \"value\": \"0.02744507570158057\", \"position\": 22}, {\"token\": \"stool\", \"token_id\": 38753, \"is_partial\": false, \"type\": \"input\", \"value\": \"0.09375726718779101\", \"position\": 23}, {\"token\": \"to\", \"token_id\": 284, \"is_partial\": false, \"type\": \"input\", \"value\": \"0.009577714433390231\", \"position\": 24}, {\"token\": \"get\", \"token_id\": 651, \"is_partial\": false, \"type\": \"input\", \"value\": \"0.017856620497538882\", \"position\": 25}, {\"token\": \"some\", \"token_id\": 617, \"is_partial\": false, \"type\": \"input\", \"value\": \"0.014522058177233352\", \"position\": 26}, {\"token\": \"cookies\", \"token_id\": 14746, \"is_partial\": false, \"type\": \"input\", \"value\": \"0.024912338371037474\", \"position\": 27}, {\"token\": \"from\", \"token_id\": 422, \"is_partial\": false, \"type\": \"input\", \"value\": \"0.012333409814888108\", \"position\": 28}, {\"token\": \"the\", \"token_id\": 262, \"is_partial\": false, \"type\": \"input\", \"value\": \"0.010416621254905112\", \"position\": 29}, {\"token\": \"jar\", \"token_id\": 17379, \"is_partial\": false, \"type\": \"input\", \"value\": \"0.028305882051300593\", \"position\": 30}, {\"token\": \"in\", \"token_id\": 287, \"is_partial\": false, \"type\": \"input\", \"value\": \"0.009059742292896085\", \"position\": 31}, {\"token\": \"the\", \"token_id\": 262, \"is_partial\": false, \"type\": \"input\", \"value\": \"0.013096345294649994\", \"position\": 32}, {\"token\": \"cup\", \"token_id\": 6508, \"is_partial\": false, \"type\": \"input\", \"value\": \"0.017197545194149514\", \"position\": 33}, {\"token\": \"board\", \"token_id\": 3526, \"is_partial\": true, \"type\": \"input\", \"value\": \"0.0382624471220516\", \"position\": 34}, {\"token\": \".\", \"token_id\": 13, \"is_partial\": true, \"type\": \"input\", \"value\": \"0.10466072446602732\", \"position\": 35}, {\"token\": \"\\n\", \"token_id\": 198, \"is_partial\": true, \"type\": \"output\", \"value\": \"0\", \"position\": 36}, {\"token\": \"\\n\", \"token_id\": 198, \"is_partial\": true, \"type\": \"output\", \"value\": \"0\", \"position\": 37}, {\"token\": \"\\\"\", \"token_id\": 1, \"is_partial\": true, \"type\": \"output\", \"value\": \"0\", \"position\": 38}, {\"token\": \"We\", \"token_id\": 1135, \"is_partial\": true, \"type\": \"output\", \"value\": \"0\", \"position\": 39}, {\"token\": \"have\", \"token_id\": 423, \"is_partial\": false, \"type\": \"output\", \"value\": \"0\", \"position\": 40}, {\"token\": \"the\", \"token_id\": 262, \"is_partial\": false, \"type\": \"output\", \"value\": \"0\", \"position\": 41}, {\"token\": \"little\", \"token_id\": 1310, \"is_partial\": false, \"type\": \"output\", \"value\": \"0\", \"position\": 42}, {\"token\": \"boy\", \"token_id\": 2933, \"is_partial\": false, \"type\": \"output\", \"value\": \"0\", \"position\": 43}, {\"token\": \",\", \"token_id\": 11, \"is_partial\": true, \"type\": \"output\", \"value\": \"0\", \"position\": 44}, {\"token\": \"the\", \"token_id\": 262, \"is_partial\": false, \"type\": \"output\", \"value\": \"0\", \"position\": 45}, {\"token\": \"little\", \"token_id\": 1310, \"is_partial\": false, \"type\": \"output\", \"value\": \"0\", \"position\": 46}, {\"token\": \"girl\", \"token_id\": 2576, \"is_partial\": false, \"type\": \"output\", \"value\": \"0\", \"position\": 47}, {\"token\": \",\", \"token_id\": 11, \"is_partial\": true, \"type\": \"output\", \"value\": \"0\", \"position\": 48}, {\"token\": \"the\", \"token_id\": 262, \"is_partial\": false, \"type\": \"output\", \"value\": \"0\", \"position\": 49}, {\"token\": \"three\", \"token_id\": 1115, \"is_partial\": false, \"type\": \"output\", \"value\": \"0\", \"position\": 50}, {\"token\": \"other\", \"token_id\": 584, \"is_partial\": false, \"type\": \"output\", \"value\": \"0\", \"position\": 51}, {\"token\": \"children\", \"token_id\": 1751, \"is_partial\": false, \"type\": \"output\", \"value\": \"0\", \"position\": 52}, {\"token\": \",\", \"token_id\": 11, \"is_partial\": true, \"type\": \"output\", \"value\": \"0\", \"position\": 53}, {\"token\": \"all\", \"token_id\": 477, \"is_partial\": false, \"type\": \"output\", \"value\": \"0\", \"position\": 54}, {\"token\": \"over\", \"token_id\": 625, \"is_partial\": false, \"type\": \"output\", \"value\": \"0\", \"position\": 55}], \"attributions\": [[0.06609868717023216, 0.0422745447593492, 0.01813192054015239, 0.037858316087279506, 0.04345582499524383, 0.010965266221694976, 0.026778858184393753, 0.01262349179009621, 0.023792754804935676, 0.04003447524702368, 0.07830977675152474, 0.024754058833278577, 0.012943556344759213, 0.014268401001497927, 0.009669226654988417, 0.015067681394343122, 0.007169250441212169, 0.041065667598822055, 0.010511367198285538, 0.019145913635269636, 0.008728161085107934, 0.014949007401069563, 0.02744507570158057, 0.09375726718779101, 0.009577714433390231, 0.017856620497538882, 0.014522058177233352, 0.024912338371037474, 0.012333409814888108, 0.010416621254905112, 0.028305882051300593, 0.009059742292896085, 0.013096345294649994, 0.017197545194149514, 0.0382624471220516, 0.10466072446602732], [0.06754061083923707, 0.06763091505695125, 0.018584845828749794, 0.02777579712924717, 0.02024874401781695, 0.012083320485629526, 0.017967270927012495, 0.011246523048268956, 0.013306848240266235, 0.016997572320882913, 0.029767638773532633, 0.02168982005914159, 0.010692707856413072, 0.011986216892595452, 0.0092360321446232, 0.015630744323466096, 0.008343333932940723, 0.02053805774631111, 0.007892423485551955, 0.01375364421009016, 0.008769504468332743, 0.012789545992302868, 0.025185005713644168, 0.024973449131347983, 0.008795375876072235, 0.008001606056054052, 0.010410655593936205, 0.04901297296312784, 0.010132039957253217, 0.01658835030838876, 0.032728210559644186, 0.03107529895984518, 0.0331657315852987, 0.025908908690254542, 0.04574550653760303, 0.09916287988852614, 0.13464189039963975], [0.06314940789366491, 0.03504275584772432, 0.015745460405628853, 0.028100061381958693, 0.044820121883258325, 0.009316378758969061, 0.01971484412980306, 0.01684770102385024, 0.025234873872840437, 0.038325018102431475, 0.04979205638893595, 0.019145958446571822, 0.042854085614128186, 0.03615839532551933, 0.016403830387698378, 0.07784543314437319, 0.02210707313574434, 0.017754256602426174, 0.009275287356913223, 0.007145099482779511, 0.011745033252984007, 0.019566053778638435, 0.04833019358032976, 0.038463681094454395, 0.007105423778347664, 0.016528586178746744, 0.02241420442370414, 0.04110264826081508, 0.009166754444212326, 0.00683410543758832, 0.02785002665979353, 0.009317755279976138, 0.007009113530447256, 0.02723970295253612, 0.024307011804293094, 0.030687980402097182, 0.030112366566855973, 0.027441259388960186], [0.0507567606813661, 0.024219985244362918, 0.022786481168939582, 0.04236760178151193, 0.014480628080402692, 0.014237207036350086, 0.029333820256897666, 0.01043022503941737, 0.013372032216765316, 0.05395511671193499, 0.01768313165794716, 0.014568070726268662, 0.02573891111055163, 0.03196374344782306, 0.027081965930294015, 0.05357393574643709, 0.008941844919212802, 0.010143079012637815, 0.008611102717835778, 0.008675637756559438, 0.013713460505560604, 0.0413786092874865, 0.061531781963398126, 0.05047135564150904, 0.006996571891928874, 0.010426206267684889, 0.014682195319581662, 0.05310912367318654, 0.007677449987847598, 0.009658206786283393, 0.04015271623302051, 0.006943593160144828, 0.007068316110649597, 0.036626773235635374, 0.04448285345656952, 0.02349619698677657, 0.019114814387154212, 0.01902446277781326, 0.05052403108425278], [0.06770534975456953, 0.0628253072638503, 0.020361434242382116, 0.027447492244031264, 0.014632589048241012, 0.012774795116611705, 0.016820762452986648, 0.015670860171271138, 0.010172126382222722, 0.02619899951415376, 0.019581401208238522, 0.011262431750179082, 0.01518746323247166, 0.02241251512249029, 0.04737548820740051, 0.02355126623750039, 0.011289435137127454, 0.009010628110607119, 0.008654213907419116, 0.008000909768152627, 0.007314523363771246, 0.01552166087661212, 0.027234717936914, 0.04272820023440254, 0.007759941006661956, 0.01402074642066256, 0.010857403023332135, 0.040494288739039645, 0.008182077870445954, 0.008133879345024844, 0.019424555662892043, 0.006302556703346172, 0.008545399350206763, 0.022988646993573822, 0.04878699030526152, 0.029768278525570707, 0.026616790819725976, 0.029158054441519515, 0.0374107002289507, 0.1378151192801788], [0.10954849607163607, 0.09893651083887774, 0.05011250726644829, 0.043110528714152274, 0.016869046953292593, 0.0220784807017025, 0.026036632710878995, 0.011144146481031677, 0.013027154909480072, 0.019327648843025, 0.009768854012120898, 0.015479138850039985, 0.012766644374770318, 0.013602048618257135, 0.010072959392394167, 0.02880192747162592, 0.009804087283997677, 0.010440261219951117, 0.011553308993963481, 0.016776024228133853, 0.012678590368622388, 0.013683168803115188, 0.025771039547725128, 0.021132439434131452, 0.011802161929403426, 0.011460218976883315, 0.01437248192322139, 0.017721343768055946, 0.011763943702410235, 0.02189494581610922, 0.014180825310234093, 0.011547511951138924, 0.014625911029717218, 0.0154770364228124, 0.016359411287800576, 0.018848534155678505, 0.018091775861408654, 0.020192448225273576, 0.026679000953491756, 0.03917647335302544, 0.09328432924396143], [0.03502342890234007, 0.017637387007541656, 0.013222930352631229, 0.03318980120775061, 0.017752906515239957, 0.00842297293600743, 0.012224961540081495, 0.011373772304860965, 0.01354316757905944, 0.04079945300613235, 0.0357557061608057, 0.03808451490072763, 0.13857219523129527, 0.012260774989499176, 0.006747243180654225, 0.014399748011239449, 0.006903678113071293, 0.013662248004427115, 0.007991689635770044, 0.009076363144216764, 0.010250650991629506, 0.01573770165209659, 0.024433464337326904, 0.07369276656224656, 0.015949472654612384, 0.006092912494122807, 0.00583572359253304, 0.029799765451780917, 0.010189535715521239, 0.006096148156654983, 0.020472936260545076, 0.009977361438708103, 0.007333002712400233, 0.015740942559626995, 0.04063539610332191, 0.007045067350003222, 0.009086685135813927, 0.015443827402739507, 0.04118126806134667, 0.02452657100163057, 0.05790375050408276, 0.06593010713790409], [0.049256311246127574, 0.028335930946555423, 0.01745476877294263, 0.039714636151765, 0.035654290950016904, 0.009584568813128589, 0.026766122294475763, 0.00822339842964992, 0.011621523991632448, 0.02625126116742724, 0.01914926924456844, 0.017677150029678276, 0.052461967218079684, 0.10485277632783155, 0.00724964126464046, 0.024274736786669967, 0.010760877590279678, 0.01621449576871992, 0.003973852441656284, 0.005076919800394608, 0.007579303518819681, 0.011130538752625005, 0.023063034255774988, 0.024567828693706772, 0.006469822342232207, 0.009020744511972394, 0.010346267104696763, 0.02286022233377327, 0.003759460540134285, 0.009389991584711564, 0.02241280226196274, 0.008848197965974384, 0.013302713081075794, 0.012644938265609064, 0.039561813333753415, 0.022724654406189853, 0.019953091210436417, 0.019448663496354136, 0.014900490551859547, 0.021604201094551218, 0.022611629658700408, 0.02795600602784215, 0.11128908577100362], [0.033140355233653086, 0.03451189007877281, 0.018492477739933743, 0.0292102448159253, 0.047837883929151066, 0.011571956280495765, 0.017161493046040976, 0.018055789858150196, 0.03173858758738113, 0.014285030370698537, 0.03318177230334078, 0.01088431814546725, 0.01477267028625433, 0.013338469928653389, 0.028312497943572674, 0.02309943509394964, 0.006679792946520294, 0.025379195207778742, 0.010877753360785426, 0.008774577965817482, 0.010402978349094327, 0.009398740782368584, 0.018853151634153614, 0.044688229598587294, 0.008255062156166414, 0.008559711592859318, 0.006525648220225122, 0.01912594832690596, 0.0053768805982166755, 0.012358284875047629, 0.016523792054563505, 0.012298819708330385, 0.01892618539123511, 0.013049014688821746, 0.04374042711311548, 0.039570751412983586, 0.02580877104226833, 0.020209980946296852, 0.023524530310375928, 0.038452380737724286, 0.04179784745889464, 0.018074483585368818, 0.02628181908996984, 0.08689036820408393], [0.0706707672604816, 0.055803371666886196, 0.03475378169878321, 0.034114682220884346, 0.011420975586581315, 0.018102011041392946, 0.02334551094408306, 0.010248670413325096, 0.013739446567783122, 0.018856686664057733, 0.014449498331550693, 0.014289667524328534, 0.014392882837174586, 0.020252122012470918, 0.011457523130733302, 0.019068800014406397, 0.013125114153665065, 0.03869081104462313, 0.022194534796726582, 0.01476630539339458, 0.01460438287164294, 0.014864458952369234, 0.02713970591931497, 0.031021495273594556, 0.009256189818169743, 0.010918655701000559, 0.010277346570405282, 0.01957793614009921, 0.009703891069638986, 0.026542598146479614, 0.021103456404448318, 0.018973708720842343, 0.02731351475324278, 0.01692927354042167, 0.018468584889358756, 0.013011507236715023, 0.01073160909189476, 0.01114039299174678, 0.00964024489679407, 0.015520808108095984, 0.0114764511255311, 0.018205363654286072, 0.020510283997439017, 0.030074477993269535, 0.1092504988298663], [0.07154058886825727, 0.02889028157055496, 0.013141679099346952, 0.03451627011081513, 0.011437144628565253, 0.012998274953265014, 0.014600233055738022, 0.010333451206663501, 0.00813149495239217, 0.03009488265386677, 0.009883195819680021, 0.012260564514693179, 0.04837407918020312, 0.02243514188767415, 0.01771922801834231, 0.01860088064542311, 0.006509009339431972, 0.026404342463718918, 0.007275195897969143, 0.005770030252269674, 0.004540393135163843, 0.010915832404594707, 0.0201312317734243, 0.023826060551197816, 0.004118725806900695, 0.005196702151464379, 0.008303724659105739, 0.030095909000906744, 0.00540289203373427, 0.006047519251055346, 0.020656994177741743, 0.00785682762980499, 0.010172258484120629, 0.01432833451483577, 0.01949875544487834, 0.019000709798262932, 0.013969997156755126, 0.01626294079733186, 0.031419793159509254, 0.03621510420931297, 0.02970358649388133, 0.07064936769702423, 0.03751456683701849, 0.024545479533203452, 0.06923463946307873, 0.04947568471682163], [0.03890466447003651, 0.013295791661608977, 0.014932490621608159, 0.03655164053140783, 0.012019215158906535, 0.010035403399846207, 0.03242494344338491, 0.008323000121822542, 0.011763079399143873, 0.02059191222287155, 0.01531607844602485, 0.019152081061897, 0.03166249858377902, 0.0804275504557045, 0.017583427341477265, 0.02764299678332682, 0.005423955186426095, 0.04142556499307042, 0.006224614969340963, 0.005265800373484079, 0.0074719192650713785, 0.011971413174076124, 0.024866015840648743, 0.02250538940641747, 0.003930588666756768, 0.007019764974013449, 0.006722486285078211, 0.026643749462339144, 0.0053333157618842605, 0.004170913703084745, 0.020525010174889287, 0.0031543349701390476, 0.0038541135563679046, 0.01546263345575408, 0.014858798753654787, 0.01900558993482101, 0.011521546003269382, 0.009754551364734094, 0.040505584256212764, 0.06140401556256902, 0.03961799501352123, 0.01077953350192255, 0.03542766698165103, 0.053288259039863714, 0.04831392764067494, 0.00944866171699615, 0.03347551230842051], [0.058113347689875715, 0.04011161241627705, 0.020049627584478497, 0.030277104628845277, 0.031084549323845474, 0.016641913445544037, 0.021221074706075878, 0.021983191384703348, 0.024552298720432904, 0.0180954663336477, 0.031234078300073607, 0.013328911232658535, 0.01107714335584979, 0.011419871037515407, 0.009590458353867933, 0.017316244028079856, 0.0059921052416600775, 0.018136990938104697, 0.0065633116905065925, 0.009342898125726072, 0.008905170876589435, 0.013063799832680842, 0.026785770664844166, 0.037173185167644666, 0.006914719213383953, 0.004156421258815533, 0.004522508186632746, 0.017682451722497508, 0.004381789946231169, 0.006426392028681245, 0.01472868125214174, 0.003454743692251505, 0.006095843858813874, 0.01437975990774508, 0.0112949648918387, 0.015348584276223785, 0.012570928174288813, 0.009285774866262574, 0.013461151628344464, 0.01317073664607889, 0.012956705952961944, 0.02063187384053566, 0.022823193926521258, 0.02120550317733481, 0.11684591613246909, 0.020418207693028025, 0.03439865448240721, 0.0907843681649829], [0.06558900500830674, 0.05928570800251227, 0.04178144228381111, 0.031252864613985354, 0.014339449777635523, 0.017728686026164512, 0.023961586070450045, 0.008944113006539245, 0.01242446205756899, 0.01771314225869582, 0.01270895180381482, 0.01401659560004794, 0.01220284309012188, 0.015501380575974775, 0.010135399841873465, 0.01871944967888663, 0.009959822857260731, 0.02073631281327594, 0.009999400178824348, 0.011358437625036135, 0.012980160041468078, 0.014140646012954762, 0.023181927258037343, 0.019111450977158977, 0.007692611322672395, 0.007552468348838325, 0.00915198340128133, 0.013822352137211986, 0.00812907837155455, 0.014466211146431204, 0.01281559338005561, 0.010666271577226645, 0.012670705365328517, 0.012417219630676445, 0.016165690119980543, 0.019913254926534802, 0.013582727677491056, 0.012185294225864809, 0.012812875212398735, 0.024637553607637388, 0.023664833754564248, 0.012736810371334624, 0.0187311356474474, 0.01697668601704763, 0.04168809626740695, 0.03686004511726402, 0.022960311398598988, 0.030754141273718286, 0.0891728122410281], [0.027332848266098646, 0.015464058432355004, 0.017729696296919215, 0.026088889175396, 0.015977937379778002, 0.006915165045871915, 0.018169761417220966, 0.012351776158768651, 0.013619881480881151, 0.02281551396357446, 0.018397322461063934, 0.010338845781370863, 0.040285322959813755, 0.02969771853161801, 0.0104716522273402, 0.02232992263924766, 0.004507005101582512, 0.035081244324037454, 0.00604512103086807, 0.009369515955669806, 0.019262494039311795, 0.015263978531532872, 0.02791668847973756, 0.02350787180323115, 0.006731353535477145, 0.006640446467222148, 0.00627815962897305, 0.023671571196044943, 0.004983325268229981, 0.004470847032232872, 0.01888254195699557, 0.003829685757915147, 0.005488792206032374, 0.015038425497325168, 0.01597374726409663, 0.014843701384700482, 0.010687190032737114, 0.010615985267594831, 0.028234331948309203, 0.03680904916593068, 0.029412990210568247, 0.013180592317057444, 0.0465806275322705, 0.05147938103672726, 0.01957276722302431, 0.02674761037183519, 0.05941326028097597, 0.060549097023714006, 0.012714694860093372, 0.01822959405062673], [0.019724946710607913, 0.011608648511533788, 0.015323742112399692, 0.025695485242579, 0.012947245304730192, 0.00726052743493614, 0.013960722383992569, 0.006172584598757086, 0.0052301953916010285, 0.024960957943971438, 0.007434892536885972, 0.0092644489193539, 0.022602508811294927, 0.0202594908434899, 0.009565055947218412, 0.02504175395783167, 0.005336020108770252, 0.015591688220585372, 0.008155814401913587, 0.015431294125307088, 0.049268504798621215, 0.0715795576598076, 0.02460379947299009, 0.019132608999022877, 0.004207532575155074, 0.005550200769565137, 0.0038534458944384097, 0.02016622517635499, 0.0053615804686494755, 0.004840693880626553, 0.014879074568657275, 0.004034607814267593, 0.006433647825125064, 0.014272574174880061, 0.01418805530139527, 0.022147572904726052, 0.0076249904779607915, 0.008365475137830623, 0.0207340039196171, 0.0251331121574221, 0.016098963537096587, 0.009244971835074863, 0.01749392495704233, 0.03599273070614718, 0.012751227036040492, 0.034950155184038635, 0.033206098602138745, 0.07833738573519727, 0.019480336050858804, 0.04010123753189463, 0.07439768133959726], [0.054784602513514725, 0.019394171867128274, 0.024250427532990722, 0.05137065986300806, 0.019368796854519327, 0.007918022592975369, 0.029468048000091073, 0.006928776808835887, 0.011102500882629714, 0.0476555257660379, 0.025974368566662135, 0.00842444166196712, 0.025004519431408453, 0.034996532658113345, 0.00813528197053508, 0.023127659122145944, 0.009039080001413655, 0.007833955721185408, 0.004785137843747937, 0.004341338667144435, 0.026361522722133223, 0.019466907848167684, 0.03773674885233971, 0.031605542656488884, 0.004000973443486236, 0.008685381595138417, 0.005513634296311281, 0.034832881984267434, 0.004143722136408048, 0.0029416517093886242, 0.02278179617635498, 0.0035357334178479603, 0.0037917745614725862, 0.017768585268699386, 0.0311972042642325, 0.01004130045498851, 0.012260952489512731, 0.014109089832873314, 0.01700433012051812, 0.009757595325356392, 0.006450175958336175, 0.006006978204688272, 0.01737526146945293, 0.03657355208724012, 0.006177619621696815, 0.0067172070794659115, 0.016945311509031537, 0.036036404203804426, 0.021959383913795736, 0.007837955058973502, 0.060885511498375844, 0.03559346191309813], [0.0488780741356466, 0.03651369976565644, 0.01971067576120224, 0.03222466179679183, 0.03185044023094073, 0.011589450055508922, 0.020456471266331898, 0.014950288922551937, 0.02307325993184549, 0.018559603848112095, 0.027658050656929386, 0.011093218854934967, 0.007854499771986163, 0.009043864077600647, 0.007177312355878599, 0.01617705302593684, 0.006866478745007264, 0.01718526289869046, 0.00721763713352553, 0.008661042829229451, 0.009449718087201448, 0.013794854097112352, 0.02932539200195499, 0.03633575264034382, 0.0060157825586519015, 0.004388452041332229, 0.0042178169424101, 0.013219739859806214, 0.004610988196536759, 0.004896660670793602, 0.010445551031460904, 0.0036217602344144058, 0.00461159218207899, 0.010321627677658575, 0.010058954142176337, 0.009662373224744527, 0.010358390308645438, 0.006388917996138903, 0.014304869882390365, 0.018060363286893668, 0.019740570824825412, 0.011559217824031605, 0.00941641511223383, 0.01225439886173343, 0.05679282922671379, 0.023231079588244413, 0.023519098887461034, 0.03678739188070179, 0.05608405609590821, 0.01361972706770515, 0.020690313904020503, 0.03806750445016958, 0.07740679314919831], [0.02786820244593225, 0.011950792321266822, 0.013619287340923124, 0.020382274825026237, 0.0316116546832433, 0.009486583591174557, 0.016158408732302856, 0.010496641637112059, 0.009362779392083277, 0.02664712506367876, 0.01019215775003234, 0.012910039082946155, 0.013713384411656928, 0.020268712855595863, 0.014003915041381276, 0.029187485007889775, 0.006688471503910746, 0.03077738368142493, 0.009377168588656537, 0.010259578502979786, 0.023513039700695217, 0.01794168700090117, 0.02625505789138228, 0.02218909336357364, 0.005914575978204024, 0.008727398866434649, 0.011556569931084688, 0.03034199619506183, 0.006744952731883327, 0.016225610484252733, 0.018690999459094457, 0.005358789603400332, 0.012835314418243527, 0.020494570315979486, 0.020988019708105283, 0.01826702660890785, 0.0126229366815453, 0.012175675261262885, 0.02437361439346215, 0.017805164194499786, 0.017783067677859442, 0.008710259900928061, 0.011388023797689028, 0.013778316843134611, 0.010747435234208751, 0.02699386728518567, 0.011272221808347247, 0.020432090652295797, 0.02887648976954034, 0.046443262054522344, 0.02778555296048799, 0.029059923324213692, 0.025859825782180844, 0.052885523662213926], [0.048527955792444614, 0.035728694616581104, 0.033181455982125754, 0.02035796908774033, 0.01037645069299432, 0.013618744718311857, 0.013488504819652775, 0.005759327405133984, 0.010161959339997553, 0.02416383613938837, 0.012763401988529106, 0.01150914087624997, 0.012305896088588725, 0.013377154792493148, 0.011859949704990505, 0.03327795168449377, 0.007460278862194158, 0.009011346667134839, 0.00652557262440585, 0.005870943760701492, 0.009369866411601964, 0.015578566629695683, 0.039340283908500036, 0.03008894228430851, 0.005607361966275272, 0.00617302201483065, 0.00798210137261664, 0.01910179900058738, 0.006048392023705267, 0.012611475404532146, 0.014224582621517561, 0.004395201412198558, 0.008529940294793897, 0.011994780548917484, 0.012632929999691732, 0.008437106447095808, 0.007914864432471224, 0.010105311063427935, 0.016950222780329958, 0.018136610869998716, 0.01184281116889545, 0.013320964838783934, 0.017859095176462066, 0.023227616168486523, 0.011775149491301378, 0.023783763709155595, 0.01452542272732659, 0.02835992239190556, 0.04307872139828006, 0.025571052599474526, 0.02440672114179918, 0.041222936336724955, 0.026597585237120504, 0.019508500154568113, 0.07036984032846685]]},\n",
       "                    tokenization_config: {\"token_prefix\": \"\\u0120\", \"partial_token_prefix\": \"\"}\n",
       "             })\n",
       "\n",
       "             }, function (err) {\n",
       "                console.log(err);\n",
       "            })"
      ],
      "text/plain": [
       "<IPython.core.display.Javascript object>"
      ]
     },
     "metadata": {},
     "output_type": "display_data"
    }
   ],
   "source": [
    "output.primary_attributions(attr_method='ig', style=\"detailed\")"
   ]
  },
  {
   "cell_type": "code",
   "execution_count": 29,
   "id": "478cfef2",
   "metadata": {},
   "outputs": [
    {
     "data": {
      "text/html": [
       "<html lang=\"en\">\n",
       "<script src=\"https://requirejs.org/docs/release/2.3.6/minified/require.js\"></script>\n",
       "<script>\n",
       "    var ecco_url = 'https://storage.googleapis.com/ml-intro/ecco/'\n",
       "    //var ecco_url = 'http://localhost:8000/'\n",
       "\n",
       "    if (window.ecco === undefined) window.ecco = {}\n",
       "\n",
       "    // Setup the paths of the script we'll be using\n",
       "    requirejs.config({\n",
       "        urlArgs: \"bust=\" + (new Date()).getTime(),\n",
       "        nodeRequire: require,\n",
       "        paths: {\n",
       "            d3: \"https://d3js.org/d3.v6.min\", // This is only for use in setup.html and basic.html\n",
       "            \"d3-array\": \"https://d3js.org/d3-array.v2.min\",\n",
       "            jquery: \"https://code.jquery.com/jquery-3.5.1.min\",\n",
       "            ecco: ecco_url + 'js/0.0.6/ecco-bundle.min',\n",
       "            xregexp: 'https://cdnjs.cloudflare.com/ajax/libs/xregexp/3.2.0/xregexp-all.min'\n",
       "        }\n",
       "    });\n",
       "\n",
       "    // Add the css file\n",
       "    //requirejs(['d3'],\n",
       "    //    function (d3) {\n",
       "    //        d3.select('#css').attr('href', ecco_url + 'html/styles.css')\n",
       "    //    })\n",
       "\n",
       "    console.log('Ecco initialize!!')\n",
       "\n",
       "    // returns a 'basic' object. basic.init() selects the html div we'll be\n",
       "    // rendering the html into, adds styles.css to the document.\n",
       "    define('basic', ['d3'],\n",
       "        function (d3) {\n",
       "            return {\n",
       "                init: function (viz_id = null) {\n",
       "                    if (viz_id == null) {\n",
       "                        viz_id = \"viz_\" + Math.round(Math.random() * 10000000)\n",
       "                    }\n",
       "                    // Select the div rendered below, change its id\n",
       "                    const div = d3.select('#basic').attr('id', viz_id),\n",
       "                        div_parent = d3.select('#' + viz_id).node().parentNode\n",
       "\n",
       "                    // Link to CSS file\n",
       "                    d3.select(div_parent).insert('link')\n",
       "                        .attr('rel', 'stylesheet')\n",
       "                        .attr('type', 'text/css')\n",
       "                        .attr('href', ecco_url + 'html/0.0.2/styles.css')\n",
       "\n",
       "                    return viz_id\n",
       "                }\n",
       "            }\n",
       "        }, function (err) {\n",
       "            console.log(err);\n",
       "        }\n",
       "    )\n",
       "</script>\n",
       "\n",
       "<head>\n",
       "    <link id='css' rel=\"stylesheet\" type=\"text/css\">\n",
       "</head>\n",
       "<div id=\"basic\"></div>\n"
      ],
      "text/plain": [
       "<IPython.core.display.HTML object>"
      ]
     },
     "metadata": {},
     "output_type": "display_data"
    },
    {
     "data": {
      "application/javascript": [
       "\n",
       "         requirejs( ['basic', 'ecco'], function(basic, ecco){\n",
       "            basic.init('viz_637036') // Python needs to know the viz id. Used for each output token.\n",
       "            window.ecco['viz_637036'] = new ecco.renderOutputSequence({\n",
       "                    parentDiv: 'viz_637036',\n",
       "                    data: {\"tokens\": [{\"token\": \"There\", \"is_partial\": true, \"position\": 0, \"token_id\": 1858, \"type\": \"input\"}, {\"token\": \"are\", \"is_partial\": false, \"position\": 1, \"token_id\": 389, \"type\": \"input\"}, {\"token\": \"two\", \"is_partial\": false, \"position\": 2, \"token_id\": 734, \"type\": \"input\"}, {\"token\": \"children\", \"is_partial\": false, \"position\": 3, \"token_id\": 1751, \"type\": \"input\"}, {\"token\": \"and\", \"is_partial\": false, \"position\": 4, \"token_id\": 290, \"type\": \"input\"}, {\"token\": \"their\", \"is_partial\": false, \"position\": 5, \"token_id\": 511, \"type\": \"input\"}, {\"token\": \"mother\", \"is_partial\": false, \"position\": 6, \"token_id\": 2802, \"type\": \"input\"}, {\"token\": \"in\", \"is_partial\": false, \"position\": 7, \"token_id\": 287, \"type\": \"input\"}, {\"token\": \"the\", \"is_partial\": false, \"position\": 8, \"token_id\": 262, \"type\": \"input\"}, {\"token\": \"kitchen\", \"is_partial\": false, \"position\": 9, \"token_id\": 9592, \"type\": \"input\"}, {\"token\": \".\", \"is_partial\": true, \"position\": 10, \"token_id\": 13, \"type\": \"input\"}, {\"token\": \"The\", \"is_partial\": false, \"position\": 11, \"token_id\": 383, \"type\": \"input\"}, {\"token\": \"little\", \"is_partial\": false, \"position\": 12, \"token_id\": 1310, \"type\": \"input\"}, {\"token\": \"boy\", \"is_partial\": false, \"position\": 13, \"token_id\": 2933, \"type\": \"input\"}, {\"token\": \"has\", \"is_partial\": false, \"position\": 14, \"token_id\": 468, \"type\": \"input\"}, {\"token\": \"climbed\", \"is_partial\": false, \"position\": 15, \"token_id\": 19952, \"type\": \"input\"}, {\"token\": \"up\", \"is_partial\": false, \"position\": 16, \"token_id\": 510, \"type\": \"input\"}, {\"token\": \",\", \"is_partial\": true, \"position\": 17, \"token_id\": 11, \"type\": \"input\"}, {\"token\": \"on\", \"is_partial\": false, \"position\": 18, \"token_id\": 319, \"type\": \"input\"}, {\"token\": \"a\", \"is_partial\": false, \"position\": 19, \"token_id\": 257, \"type\": \"input\"}, {\"token\": \"three\", \"is_partial\": false, \"position\": 20, \"token_id\": 1115, \"type\": \"input\"}, {\"token\": \"le\", \"is_partial\": false, \"position\": 21, \"token_id\": 443, \"type\": \"input\"}, {\"token\": \"gged\", \"is_partial\": true, \"position\": 22, \"token_id\": 11178, \"type\": \"input\"}, {\"token\": \"stool\", \"is_partial\": false, \"position\": 23, \"token_id\": 38753, \"type\": \"input\"}, {\"token\": \"to\", \"is_partial\": false, \"position\": 24, \"token_id\": 284, \"type\": \"input\"}, {\"token\": \"get\", \"is_partial\": false, \"position\": 25, \"token_id\": 651, \"type\": \"input\"}, {\"token\": \"some\", \"is_partial\": false, \"position\": 26, \"token_id\": 617, \"type\": \"input\"}, {\"token\": \"cookies\", \"is_partial\": false, \"position\": 27, \"token_id\": 14746, \"type\": \"input\"}, {\"token\": \"from\", \"is_partial\": false, \"position\": 28, \"token_id\": 422, \"type\": \"input\"}, {\"token\": \"the\", \"is_partial\": false, \"position\": 29, \"token_id\": 262, \"type\": \"input\"}, {\"token\": \"jar\", \"is_partial\": false, \"position\": 30, \"token_id\": 17379, \"type\": \"input\"}, {\"token\": \"in\", \"is_partial\": false, \"position\": 31, \"token_id\": 287, \"type\": \"input\"}, {\"token\": \"the\", \"is_partial\": false, \"position\": 32, \"token_id\": 262, \"type\": \"input\"}, {\"token\": \"cup\", \"is_partial\": false, \"position\": 33, \"token_id\": 6508, \"type\": \"input\"}, {\"token\": \"board\", \"is_partial\": true, \"position\": 34, \"token_id\": 3526, \"type\": \"input\"}, {\"token\": \".\", \"is_partial\": true, \"position\": 35, \"token_id\": 13, \"type\": \"input\"}]},\n",
       "                    tokenization_config: {\"token_prefix\": \"\\u0120\", \"partial_token_prefix\": \"\"}\n",
       "            \n",
       "            })\n",
       "         }, function (err) {\n",
       "            console.log(err);\n",
       "        })\n",
       "        "
      ],
      "text/plain": [
       "<IPython.core.display.Javascript object>"
      ]
     },
     "metadata": {},
     "output_type": "display_data"
    },
    {
     "name": "stderr",
     "output_type": "stream",
     "text": [
      "Setting `pad_token_id` to `eos_token_id`:50256 for open-end generation.\n"
     ]
    },
    {
     "data": {
      "application/javascript": [
       "\n",
       "        // We don't really need these require scripts. But this is to avert\n",
       "        //this code from running before display_input_sequence which DOES require external files\n",
       "        requirejs(['basic', 'ecco'], function(basic, ecco){\n",
       "                console.log('addToken viz_id', 'viz_637036');\n",
       "                window.ecco['viz_637036'].addToken({\"token\": \"You\", \"is_partial\": false, \"token_id\": 921, \"position\": 36, \"type\": \"output\"})\n",
       "                window.ecco['viz_637036'].redraw()\n",
       "        })\n",
       "        "
      ],
      "text/plain": [
       "<IPython.core.display.Javascript object>"
      ]
     },
     "metadata": {},
     "output_type": "display_data"
    },
    {
     "data": {
      "application/javascript": [
       "\n",
       "        // We don't really need these require scripts. But this is to avert\n",
       "        //this code from running before display_input_sequence which DOES require external files\n",
       "        requirejs(['basic', 'ecco'], function(basic, ecco){\n",
       "                console.log('addToken viz_id', 'viz_637036');\n",
       "                window.ecco['viz_637036'].addToken({\"token\": \"can\", \"is_partial\": false, \"token_id\": 460, \"position\": 37, \"type\": \"output\"})\n",
       "                window.ecco['viz_637036'].redraw()\n",
       "        })\n",
       "        "
      ],
      "text/plain": [
       "<IPython.core.display.Javascript object>"
      ]
     },
     "metadata": {},
     "output_type": "display_data"
    },
    {
     "data": {
      "application/javascript": [
       "\n",
       "        // We don't really need these require scripts. But this is to avert\n",
       "        //this code from running before display_input_sequence which DOES require external files\n",
       "        requirejs(['basic', 'ecco'], function(basic, ecco){\n",
       "                console.log('addToken viz_id', 'viz_637036');\n",
       "                window.ecco['viz_637036'].addToken({\"token\": \"'t\", \"is_partial\": true, \"token_id\": 470, \"position\": 38, \"type\": \"output\"})\n",
       "                window.ecco['viz_637036'].redraw()\n",
       "        })\n",
       "        "
      ],
      "text/plain": [
       "<IPython.core.display.Javascript object>"
      ]
     },
     "metadata": {},
     "output_type": "display_data"
    },
    {
     "data": {
      "application/javascript": [
       "\n",
       "        // We don't really need these require scripts. But this is to avert\n",
       "        //this code from running before display_input_sequence which DOES require external files\n",
       "        requirejs(['basic', 'ecco'], function(basic, ecco){\n",
       "                console.log('addToken viz_id', 'viz_637036');\n",
       "                window.ecco['viz_637036'].addToken({\"token\": \"put\", \"is_partial\": false, \"token_id\": 1234, \"position\": 39, \"type\": \"output\"})\n",
       "                window.ecco['viz_637036'].redraw()\n",
       "        })\n",
       "        "
      ],
      "text/plain": [
       "<IPython.core.display.Javascript object>"
      ]
     },
     "metadata": {},
     "output_type": "display_data"
    },
    {
     "data": {
      "application/javascript": [
       "\n",
       "        // We don't really need these require scripts. But this is to avert\n",
       "        //this code from running before display_input_sequence which DOES require external files\n",
       "        requirejs(['basic', 'ecco'], function(basic, ecco){\n",
       "                console.log('addToken viz_id', 'viz_637036');\n",
       "                window.ecco['viz_637036'].addToken({\"token\": \"in\", \"is_partial\": false, \"token_id\": 287, \"position\": 40, \"type\": \"output\"})\n",
       "                window.ecco['viz_637036'].redraw()\n",
       "        })\n",
       "        "
      ],
      "text/plain": [
       "<IPython.core.display.Javascript object>"
      ]
     },
     "metadata": {},
     "output_type": "display_data"
    },
    {
     "data": {
      "application/javascript": [
       "\n",
       "        // We don't really need these require scripts. But this is to avert\n",
       "        //this code from running before display_input_sequence which DOES require external files\n",
       "        requirejs(['basic', 'ecco'], function(basic, ecco){\n",
       "                console.log('addToken viz_id', 'viz_637036');\n",
       "                window.ecco['viz_637036'].addToken({\"token\": \"cup\", \"is_partial\": false, \"token_id\": 6508, \"position\": 41, \"type\": \"output\"})\n",
       "                window.ecco['viz_637036'].redraw()\n",
       "        })\n",
       "        "
      ],
      "text/plain": [
       "<IPython.core.display.Javascript object>"
      ]
     },
     "metadata": {},
     "output_type": "display_data"
    },
    {
     "data": {
      "application/javascript": [
       "\n",
       "        // We don't really need these require scripts. But this is to avert\n",
       "        //this code from running before display_input_sequence which DOES require external files\n",
       "        requirejs(['basic', 'ecco'], function(basic, ecco){\n",
       "                console.log('addToken viz_id', 'viz_637036');\n",
       "                window.ecco['viz_637036'].addToken({\"token\": \"board\", \"is_partial\": true, \"token_id\": 3526, \"position\": 42, \"type\": \"output\"})\n",
       "                window.ecco['viz_637036'].redraw()\n",
       "        })\n",
       "        "
      ],
      "text/plain": [
       "<IPython.core.display.Javascript object>"
      ]
     },
     "metadata": {},
     "output_type": "display_data"
    },
    {
     "data": {
      "application/javascript": [
       "\n",
       "        // We don't really need these require scripts. But this is to avert\n",
       "        //this code from running before display_input_sequence which DOES require external files\n",
       "        requirejs(['basic', 'ecco'], function(basic, ecco){\n",
       "                console.log('addToken viz_id', 'viz_637036');\n",
       "                window.ecco['viz_637036'].addToken({\"token\": \"with\", \"is_partial\": false, \"token_id\": 351, \"position\": 43, \"type\": \"output\"})\n",
       "                window.ecco['viz_637036'].redraw()\n",
       "        })\n",
       "        "
      ],
      "text/plain": [
       "<IPython.core.display.Javascript object>"
      ]
     },
     "metadata": {},
     "output_type": "display_data"
    },
    {
     "data": {
      "application/javascript": [
       "\n",
       "        // We don't really need these require scripts. But this is to avert\n",
       "        //this code from running before display_input_sequence which DOES require external files\n",
       "        requirejs(['basic', 'ecco'], function(basic, ecco){\n",
       "                console.log('addToken viz_id', 'viz_637036');\n",
       "                window.ecco['viz_637036'].addToken({\"token\": \"a\", \"is_partial\": false, \"token_id\": 257, \"position\": 44, \"type\": \"output\"})\n",
       "                window.ecco['viz_637036'].redraw()\n",
       "        })\n",
       "        "
      ],
      "text/plain": [
       "<IPython.core.display.Javascript object>"
      ]
     },
     "metadata": {},
     "output_type": "display_data"
    },
    {
     "data": {
      "application/javascript": [
       "\n",
       "        // We don't really need these require scripts. But this is to avert\n",
       "        //this code from running before display_input_sequence which DOES require external files\n",
       "        requirejs(['basic', 'ecco'], function(basic, ecco){\n",
       "                console.log('addToken viz_id', 'viz_637036');\n",
       "                window.ecco['viz_637036'].addToken({\"token\": \"milk\", \"is_partial\": false, \"token_id\": 7545, \"position\": 45, \"type\": \"output\"})\n",
       "                window.ecco['viz_637036'].redraw()\n",
       "        })\n",
       "        "
      ],
      "text/plain": [
       "<IPython.core.display.Javascript object>"
      ]
     },
     "metadata": {},
     "output_type": "display_data"
    }
   ],
   "source": [
    "doutput = dlm.generate(text, generate=10, temperature=1,\n",
    "                       do_sample=True, top_p=0.9, attribution=['ig', 'grad_x_input'])"
   ]
  },
  {
   "cell_type": "code",
   "execution_count": 38,
   "id": "3d7c9329",
   "metadata": {},
   "outputs": [
    {
     "data": {
      "text/html": [
       "<html lang=\"en\">\n",
       "<script src=\"https://requirejs.org/docs/release/2.3.6/minified/require.js\"></script>\n",
       "<script>\n",
       "    var ecco_url = 'https://storage.googleapis.com/ml-intro/ecco/'\n",
       "    //var ecco_url = 'http://localhost:8000/'\n",
       "\n",
       "    if (window.ecco === undefined) window.ecco = {}\n",
       "\n",
       "    // Setup the paths of the script we'll be using\n",
       "    requirejs.config({\n",
       "        urlArgs: \"bust=\" + (new Date()).getTime(),\n",
       "        nodeRequire: require,\n",
       "        paths: {\n",
       "            d3: \"https://d3js.org/d3.v6.min\", // This is only for use in setup.html and basic.html\n",
       "            \"d3-array\": \"https://d3js.org/d3-array.v2.min\",\n",
       "            jquery: \"https://code.jquery.com/jquery-3.5.1.min\",\n",
       "            ecco: ecco_url + 'js/0.0.6/ecco-bundle.min',\n",
       "            xregexp: 'https://cdnjs.cloudflare.com/ajax/libs/xregexp/3.2.0/xregexp-all.min'\n",
       "        }\n",
       "    });\n",
       "\n",
       "    // Add the css file\n",
       "    //requirejs(['d3'],\n",
       "    //    function (d3) {\n",
       "    //        d3.select('#css').attr('href', ecco_url + 'html/styles.css')\n",
       "    //    })\n",
       "\n",
       "    console.log('Ecco initialize!!')\n",
       "\n",
       "    // returns a 'basic' object. basic.init() selects the html div we'll be\n",
       "    // rendering the html into, adds styles.css to the document.\n",
       "    define('basic', ['d3'],\n",
       "        function (d3) {\n",
       "            return {\n",
       "                init: function (viz_id = null) {\n",
       "                    if (viz_id == null) {\n",
       "                        viz_id = \"viz_\" + Math.round(Math.random() * 10000000)\n",
       "                    }\n",
       "                    // Select the div rendered below, change its id\n",
       "                    const div = d3.select('#basic').attr('id', viz_id),\n",
       "                        div_parent = d3.select('#' + viz_id).node().parentNode\n",
       "\n",
       "                    // Link to CSS file\n",
       "                    d3.select(div_parent).insert('link')\n",
       "                        .attr('rel', 'stylesheet')\n",
       "                        .attr('type', 'text/css')\n",
       "                        .attr('href', ecco_url + 'html/0.0.2/styles.css')\n",
       "\n",
       "                    return viz_id\n",
       "                }\n",
       "            }\n",
       "        }, function (err) {\n",
       "            console.log(err);\n",
       "        }\n",
       "    )\n",
       "</script>\n",
       "\n",
       "<head>\n",
       "    <link id='css' rel=\"stylesheet\" type=\"text/css\">\n",
       "</head>\n",
       "<div id=\"basic\"></div>\n"
      ],
      "text/plain": [
       "<IPython.core.display.HTML object>"
      ]
     },
     "metadata": {},
     "output_type": "display_data"
    },
    {
     "data": {
      "application/javascript": [
       "\n",
       "             requirejs(['basic', 'ecco'], function(basic, ecco){\n",
       "                const viz_id = basic.init()\n",
       "                console.log(viz_id)\n",
       "                // ecco.interactiveTokens(viz_id, {})\n",
       "                window.ecco[viz_id] = new ecco.MinimalHighlighter({\n",
       "                    parentDiv: viz_id,\n",
       "                    data: {\"tokens\": [{\"token\": \"There\", \"token_id\": 1858, \"is_partial\": true, \"type\": \"input\", \"value\": \"0.03988024\", \"position\": 0}, {\"token\": \"are\", \"token_id\": 389, \"is_partial\": false, \"type\": \"input\", \"value\": \"0.027022842\", \"position\": 1}, {\"token\": \"two\", \"token_id\": 734, \"is_partial\": false, \"type\": \"input\", \"value\": \"0.016324628\", \"position\": 2}, {\"token\": \"children\", \"token_id\": 1751, \"is_partial\": false, \"type\": \"input\", \"value\": \"0.027179044\", \"position\": 3}, {\"token\": \"and\", \"token_id\": 290, \"is_partial\": false, \"type\": \"input\", \"value\": \"0.018975535\", \"position\": 4}, {\"token\": \"their\", \"token_id\": 511, \"is_partial\": false, \"type\": \"input\", \"value\": \"0.01468738\", \"position\": 5}, {\"token\": \"mother\", \"token_id\": 2802, \"is_partial\": false, \"type\": \"input\", \"value\": \"0.020420425\", \"position\": 6}, {\"token\": \"in\", \"token_id\": 287, \"is_partial\": false, \"type\": \"input\", \"value\": \"0.01854331\", \"position\": 7}, {\"token\": \"the\", \"token_id\": 262, \"is_partial\": false, \"type\": \"input\", \"value\": \"0.018428778\", \"position\": 8}, {\"token\": \"kitchen\", \"token_id\": 9592, \"is_partial\": false, \"type\": \"input\", \"value\": \"0.034536622\", \"position\": 9}, {\"token\": \".\", \"token_id\": 13, \"is_partial\": true, \"type\": \"input\", \"value\": \"0.059535343\", \"position\": 10}, {\"token\": \"The\", \"token_id\": 383, \"is_partial\": false, \"type\": \"input\", \"value\": \"0.043675818\", \"position\": 11}, {\"token\": \"little\", \"token_id\": 1310, \"is_partial\": false, \"type\": \"input\", \"value\": \"0.012583032\", \"position\": 12}, {\"token\": \"boy\", \"token_id\": 2933, \"is_partial\": false, \"type\": \"input\", \"value\": \"0.012832798\", \"position\": 13}, {\"token\": \"has\", \"token_id\": 468, \"is_partial\": false, \"type\": \"input\", \"value\": \"0.011530431\", \"position\": 14}, {\"token\": \"climbed\", \"token_id\": 19952, \"is_partial\": false, \"type\": \"input\", \"value\": \"0.023962952\", \"position\": 15}, {\"token\": \"up\", \"token_id\": 510, \"is_partial\": false, \"type\": \"input\", \"value\": \"0.012367834\", \"position\": 16}, {\"token\": \",\", \"token_id\": 11, \"is_partial\": true, \"type\": \"input\", \"value\": \"0.011054215\", \"position\": 17}, {\"token\": \"on\", \"token_id\": 319, \"is_partial\": false, \"type\": \"input\", \"value\": \"0.009435169\", \"position\": 18}, {\"token\": \"a\", \"token_id\": 257, \"is_partial\": false, \"type\": \"input\", \"value\": \"0.009369937\", \"position\": 19}, {\"token\": \"three\", \"token_id\": 1115, \"is_partial\": false, \"type\": \"input\", \"value\": \"0.014415674\", \"position\": 20}, {\"token\": \"le\", \"token_id\": 443, \"is_partial\": false, \"type\": \"input\", \"value\": \"0.01581452\", \"position\": 21}, {\"token\": \"gged\", \"token_id\": 11178, \"is_partial\": true, \"type\": \"input\", \"value\": \"0.033986013\", \"position\": 22}, {\"token\": \"stool\", \"token_id\": 38753, \"is_partial\": false, \"type\": \"input\", \"value\": \"0.033964682\", \"position\": 23}, {\"token\": \"to\", \"token_id\": 284, \"is_partial\": false, \"type\": \"input\", \"value\": \"0.031292632\", \"position\": 24}, {\"token\": \"get\", \"token_id\": 651, \"is_partial\": false, \"type\": \"input\", \"value\": \"0.019078804\", \"position\": 25}, {\"token\": \"some\", \"token_id\": 617, \"is_partial\": false, \"type\": \"input\", \"value\": \"0.014929636\", \"position\": 26}, {\"token\": \"cookies\", \"token_id\": 14746, \"is_partial\": false, \"type\": \"input\", \"value\": \"0.027441869\", \"position\": 27}, {\"token\": \"from\", \"token_id\": 422, \"is_partial\": false, \"type\": \"input\", \"value\": \"0.0107130585\", \"position\": 28}, {\"token\": \"the\", \"token_id\": 262, \"is_partial\": false, \"type\": \"input\", \"value\": \"0.023155669\", \"position\": 29}, {\"token\": \"jar\", \"token_id\": 17379, \"is_partial\": false, \"type\": \"input\", \"value\": \"0.05396712\", \"position\": 30}, {\"token\": \"in\", \"token_id\": 287, \"is_partial\": false, \"type\": \"input\", \"value\": \"0.016790759\", \"position\": 31}, {\"token\": \"the\", \"token_id\": 262, \"is_partial\": false, \"type\": \"input\", \"value\": \"0.022585418\", \"position\": 32}, {\"token\": \"cup\", \"token_id\": 6508, \"is_partial\": false, \"type\": \"input\", \"value\": \"0.041657012\", \"position\": 33}, {\"token\": \"board\", \"token_id\": 3526, \"is_partial\": true, \"type\": \"input\", \"value\": \"0.072458215\", \"position\": 34}, {\"token\": \".\", \"token_id\": 13, \"is_partial\": true, \"type\": \"input\", \"value\": \"0.1254025\", \"position\": 35}, {\"token\": \"You\", \"token_id\": 921, \"is_partial\": false, \"type\": \"output\", \"value\": \"0\", \"position\": 36}, {\"token\": \"can\", \"token_id\": 460, \"is_partial\": false, \"type\": \"output\", \"value\": \"0\", \"position\": 37}, {\"token\": \"'t\", \"token_id\": 470, \"is_partial\": true, \"type\": \"output\", \"value\": \"0\", \"position\": 38}, {\"token\": \"put\", \"token_id\": 1234, \"is_partial\": false, \"type\": \"output\", \"value\": \"0\", \"position\": 39}, {\"token\": \"in\", \"token_id\": 287, \"is_partial\": false, \"type\": \"output\", \"value\": \"0\", \"position\": 40}, {\"token\": \"cup\", \"token_id\": 6508, \"is_partial\": false, \"type\": \"output\", \"value\": \"0\", \"position\": 41}, {\"token\": \"board\", \"token_id\": 3526, \"is_partial\": true, \"type\": \"output\", \"value\": \"0\", \"position\": 42}, {\"token\": \"with\", \"token_id\": 351, \"is_partial\": false, \"type\": \"output\", \"value\": \"0\", \"position\": 43}, {\"token\": \"a\", \"token_id\": 257, \"is_partial\": false, \"type\": \"output\", \"value\": \"0\", \"position\": 44}, {\"token\": \"milk\", \"token_id\": 7545, \"is_partial\": false, \"type\": \"output\", \"value\": \"0\", \"position\": 45}], \"attributions\": [[0.039880238473415375, 0.027022842317819595, 0.01632462814450264, 0.027179043740034103, 0.01897553540766239, 0.014687379822134972, 0.02042042464017868, 0.018543310463428497, 0.018428778275847435, 0.03453662246465683, 0.05953534319996834, 0.04367581754922867, 0.012583032250404358, 0.012832798063755035, 0.011530430987477303, 0.023962952196598053, 0.012367834337055683, 0.011054215021431446, 0.009435169398784637, 0.009369936771690845, 0.014415673911571503, 0.01581452041864395, 0.033986013382673264, 0.03396468237042427, 0.0312926322221756, 0.019078804180026054, 0.014929636381566525, 0.02744186855852604, 0.010713058523833752, 0.02315566875040531, 0.05396711826324463, 0.016790758818387985, 0.022585418075323105, 0.041657011955976486, 0.07245821505784988, 0.12540249526500702], [0.025545775890350342, 0.024380140006542206, 0.013235419988632202, 0.020324140787124634, 0.017022745683789253, 0.009820662438869476, 0.018632667139172554, 0.024937428534030914, 0.018416812643408775, 0.039022546261548996, 0.02113538235425949, 0.021497491747140884, 0.014717470854520798, 0.018908584490418434, 0.022492466494441032, 0.03195608779788017, 0.008933755569159985, 0.01883610524237156, 0.008162079378962517, 0.008828830905258656, 0.009470270946621895, 0.014782327227294445, 0.034970369189977646, 0.03309423848986626, 0.01620839349925518, 0.0171347726136446, 0.013281549327075481, 0.04223911091685295, 0.013885979540646076, 0.024357199668884277, 0.04822211712598801, 0.019779590889811516, 0.019902845844626427, 0.034830182790756226, 0.05441185459494591, 0.0517357662320137, 0.16488689184188843], [0.017674876376986504, 0.013910144567489624, 0.008599989116191864, 0.016359882429242134, 0.024014713242650032, 0.010702244937419891, 0.015798693522810936, 0.01901128515601158, 0.01974722556769848, 0.029231151565909386, 0.047938503324985504, 0.01590620167553425, 0.012124919332563877, 0.01780204102396965, 0.015153448097407818, 0.027596915140748024, 0.008637706749141216, 0.030444731935858727, 0.01657836325466633, 0.01924828439950943, 0.01309729553759098, 0.01498660072684288, 0.022684292867779732, 0.03178027272224426, 0.030354661867022514, 0.016342252492904663, 0.019707193598151207, 0.02636612206697464, 0.019394487142562866, 0.024937571957707405, 0.03588574379682541, 0.028890324756503105, 0.02321556769311428, 0.024844679981470108, 0.025410473346710205, 0.05128463730216026, 0.07630600035190582, 0.12803052365779877], [0.014813278801739216, 0.009165657684206963, 0.006411191076040268, 0.008754217997193336, 0.008627528324723244, 0.005683832336217165, 0.010597264394164085, 0.007540632504969835, 0.005823566112667322, 0.015105033293366432, 0.01620609499514103, 0.009139467030763626, 0.010515277273952961, 0.012863367795944214, 0.009612188674509525, 0.018940428271889687, 0.005888300947844982, 0.018585674464702606, 0.007426729891449213, 0.007589216809719801, 0.008975440636277199, 0.014324218966066837, 0.01903756894171238, 0.023871317505836487, 0.02250012382864952, 0.01531453337520361, 0.01522680651396513, 0.024981241673231125, 0.014116124249994755, 0.017158715054392815, 0.022246215492486954, 0.02200193516910076, 0.03279503807425499, 0.026061847805976868, 0.023816198110580444, 0.12457232922315598, 0.05957101657986641, 0.13805784285068512, 0.16608253121376038], [0.009665611200034618, 0.006630333606153727, 0.005877211689949036, 0.009595466777682304, 0.01708284765481949, 0.0058324821293354034, 0.008012546226382256, 0.010802043601870537, 0.008203207515180111, 0.015037499368190765, 0.02713797613978386, 0.008720871061086655, 0.006139435339719057, 0.009656459093093872, 0.007390385493636131, 0.01657801866531372, 0.005779494997113943, 0.01667609065771103, 0.007663133088499308, 0.007637531030923128, 0.009732183068990707, 0.016064338386058807, 0.05238451063632965, 0.045247554779052734, 0.054677948355674744, 0.08726747334003448, 0.08100206404924393, 0.02065432257950306, 0.013169496320188046, 0.018251994624733925, 0.026108192279934883, 0.017043888568878174, 0.01790793426334858, 0.014731896109879017, 0.019694404676556587, 0.05158458277583122, 0.04961355775594711, 0.026638247072696686, 0.04727932810783386, 0.12082739919424057], [0.01350778341293335, 0.011767087504267693, 0.007868068292737007, 0.012222005985677242, 0.008838508278131485, 0.006891828030347824, 0.012783504091203213, 0.02034115418791771, 0.01060156524181366, 0.025571005418896675, 0.04471367225050926, 0.011658797971904278, 0.008442314341664314, 0.013708643615245819, 0.009355800226330757, 0.024086549878120422, 0.01179321389645338, 0.01496912632137537, 0.0130097521468997, 0.016328701749444008, 0.014711646363139153, 0.01469842717051506, 0.032209254801273346, 0.04191979393362999, 0.01851348765194416, 0.014787872321903706, 0.01824500970542431, 0.03408228978514671, 0.009281936101615429, 0.023678110912442207, 0.04001107066869736, 0.033988915383815765, 0.029608244076371193, 0.09181183576583862, 0.03387193754315376, 0.045941062271595, 0.019724857062101364, 0.016513191163539886, 0.023652326315641403, 0.07406605780124664, 0.07022367417812347], [0.012391266413033009, 0.007479057647287846, 0.004932702518999577, 0.009606688283383846, 0.014216188341379166, 0.004943429492413998, 0.008216730318963528, 0.013373706489801407, 0.009672408923506737, 0.015339510515332222, 0.011340041644871235, 0.006173568312078714, 0.004734410904347897, 0.008564861491322517, 0.006548943463712931, 0.016108527779579163, 0.007871722802519798, 0.01462212298065424, 0.00960273202508688, 0.008703920058906078, 0.007599998265504837, 0.013000775128602982, 0.03420160710811615, 0.03850251063704491, 0.014808964915573597, 0.011733448132872581, 0.011917206458747387, 0.045804694294929504, 0.014553858898580074, 0.02687867172062397, 0.048642147332429886, 0.010757682844996452, 0.03973754122853279, 0.09382966160774231, 0.1290537565946579, 0.027114886790513992, 0.013285488821566105, 0.012021142058074474, 0.026396317407488823, 0.031024141237139702, 0.03166361525654793, 0.12302924692630768], [0.018399035558104515, 0.010139319114387035, 0.009104753844439983, 0.01624659262597561, 0.016593925654888153, 0.009810727089643478, 0.012943169102072716, 0.013583533465862274, 0.011524023488163948, 0.02480752393603325, 0.04745049402117729, 0.015993356704711914, 0.009029960259795189, 0.012563305906951427, 0.0100222984328866, 0.023035671561956406, 0.008480677381157875, 0.01215612143278122, 0.00978347659111023, 0.012105759233236313, 0.009139169938862324, 0.015277309343218803, 0.04299260675907135, 0.04502742737531662, 0.039326634258031845, 0.02578563801944256, 0.02356332540512085, 0.025293605402112007, 0.011556966230273247, 0.0109820906072855, 0.027277911081910133, 0.013612893410027027, 0.010933518409729004, 0.02211637794971466, 0.028681328520178795, 0.047628290951251984, 0.01729629561305046, 0.017598096281290054, 0.013144423253834248, 0.034504931420087814, 0.013323099352419376, 0.0767502635717392, 0.1244141012430191], [0.019577506929636, 0.011897624470293522, 0.012077332474291325, 0.0183611698448658, 0.036563195288181305, 0.010426025837659836, 0.013194771483540535, 0.020719172433018684, 0.022422829642891884, 0.022836508229374886, 0.036062851548194885, 0.015276159159839153, 0.009729098528623581, 0.010851755738258362, 0.011217444203794003, 0.025670528411865234, 0.008079485036432743, 0.0292446780949831, 0.013397879898548126, 0.023080438375473022, 0.010485070757567883, 0.01228390634059906, 0.027757994830608368, 0.033614154905080795, 0.012628832831978798, 0.007142143789678812, 0.0124880475923419, 0.030718669295310974, 0.01345038041472435, 0.015520562417805195, 0.027864063158631325, 0.013438243418931961, 0.01537975575774908, 0.02627977915108204, 0.024836484342813492, 0.06233294680714607, 0.019536884501576424, 0.011275441385805607, 0.010195109061896801, 0.022253477945923805, 0.018824506551027298, 0.03502867743372917, 0.04095018655061722, 0.1250281184911728], [0.01946929469704628, 0.009554103016853333, 0.008870691992342472, 0.01384816411882639, 0.011297103948891163, 0.006960612256079912, 0.01578449085354805, 0.00904202088713646, 0.008454660885035992, 0.03321880102157593, 0.018364733085036278, 0.008662817068397999, 0.006963943596929312, 0.012162860482931137, 0.009090662002563477, 0.021989859640598297, 0.0060689435340464115, 0.009655766189098358, 0.008986693806946278, 0.011776236817240715, 0.014476660639047623, 0.023269549012184143, 0.05569390207529068, 0.066271111369133, 0.012245978228747845, 0.014042195864021778, 0.013836182653903961, 0.07297880202531815, 0.012973340228199959, 0.022354716435074806, 0.0963783785700798, 0.02181374654173851, 0.01563797891139984, 0.04486918821930885, 0.045765362679958344, 0.014683060348033905, 0.013140152208507061, 0.010571841150522232, 0.009946911595761776, 0.0130922244861722, 0.008218243718147278, 0.04055829718708992, 0.04785570874810219, 0.021283509209752083, 0.037820566445589066]]},\n",
       "                    preset: 'viridis',\n",
       "                    tokenization_config: {\"token_prefix\": \"\\u0120\", \"partial_token_prefix\": \"\"}\n",
       "\n",
       "             })\n",
       "\n",
       "             window.ecco[viz_id].init();\n",
       "             window.ecco[viz_id].selectFirstToken();\n",
       "\n",
       "             }, function (err) {\n",
       "                console.log(err);\n",
       "            })"
      ],
      "text/plain": [
       "<IPython.core.display.Javascript object>"
      ]
     },
     "metadata": {},
     "output_type": "display_data"
    }
   ],
   "source": [
    "doutput.primary_attributions(attr_method='grad_x_input')"
   ]
  },
  {
   "cell_type": "code",
   "execution_count": 39,
   "id": "9a17567c",
   "metadata": {},
   "outputs": [
    {
     "data": {
      "text/html": [
       "<html lang=\"en\">\n",
       "<script src=\"https://requirejs.org/docs/release/2.3.6/minified/require.js\"></script>\n",
       "<script>\n",
       "    var ecco_url = 'https://storage.googleapis.com/ml-intro/ecco/'\n",
       "    //var ecco_url = 'http://localhost:8000/'\n",
       "\n",
       "    if (window.ecco === undefined) window.ecco = {}\n",
       "\n",
       "    // Setup the paths of the script we'll be using\n",
       "    requirejs.config({\n",
       "        urlArgs: \"bust=\" + (new Date()).getTime(),\n",
       "        nodeRequire: require,\n",
       "        paths: {\n",
       "            d3: \"https://d3js.org/d3.v6.min\", // This is only for use in setup.html and basic.html\n",
       "            \"d3-array\": \"https://d3js.org/d3-array.v2.min\",\n",
       "            jquery: \"https://code.jquery.com/jquery-3.5.1.min\",\n",
       "            ecco: ecco_url + 'js/0.0.6/ecco-bundle.min',\n",
       "            xregexp: 'https://cdnjs.cloudflare.com/ajax/libs/xregexp/3.2.0/xregexp-all.min'\n",
       "        }\n",
       "    });\n",
       "\n",
       "    // Add the css file\n",
       "    //requirejs(['d3'],\n",
       "    //    function (d3) {\n",
       "    //        d3.select('#css').attr('href', ecco_url + 'html/styles.css')\n",
       "    //    })\n",
       "\n",
       "    console.log('Ecco initialize!!')\n",
       "\n",
       "    // returns a 'basic' object. basic.init() selects the html div we'll be\n",
       "    // rendering the html into, adds styles.css to the document.\n",
       "    define('basic', ['d3'],\n",
       "        function (d3) {\n",
       "            return {\n",
       "                init: function (viz_id = null) {\n",
       "                    if (viz_id == null) {\n",
       "                        viz_id = \"viz_\" + Math.round(Math.random() * 10000000)\n",
       "                    }\n",
       "                    // Select the div rendered below, change its id\n",
       "                    const div = d3.select('#basic').attr('id', viz_id),\n",
       "                        div_parent = d3.select('#' + viz_id).node().parentNode\n",
       "\n",
       "                    // Link to CSS file\n",
       "                    d3.select(div_parent).insert('link')\n",
       "                        .attr('rel', 'stylesheet')\n",
       "                        .attr('type', 'text/css')\n",
       "                        .attr('href', ecco_url + 'html/0.0.2/styles.css')\n",
       "\n",
       "                    return viz_id\n",
       "                }\n",
       "            }\n",
       "        }, function (err) {\n",
       "            console.log(err);\n",
       "        }\n",
       "    )\n",
       "</script>\n",
       "\n",
       "<head>\n",
       "    <link id='css' rel=\"stylesheet\" type=\"text/css\">\n",
       "</head>\n",
       "<div id=\"basic\"></div>\n"
      ],
      "text/plain": [
       "<IPython.core.display.HTML object>"
      ]
     },
     "metadata": {},
     "output_type": "display_data"
    },
    {
     "data": {
      "application/javascript": [
       "\n",
       "             requirejs(['basic', 'ecco'], function(basic, ecco){\n",
       "                const viz_id = basic.init()\n",
       "                console.log(viz_id)\n",
       "                window.ecco[viz_id] = ecco.interactiveTokens({\n",
       "                    parentDiv: viz_id,\n",
       "                    data: {\"tokens\": [{\"token\": \"There\", \"token_id\": 1858, \"is_partial\": true, \"type\": \"input\", \"value\": \"0.03988024\", \"position\": 0}, {\"token\": \"are\", \"token_id\": 389, \"is_partial\": false, \"type\": \"input\", \"value\": \"0.027022842\", \"position\": 1}, {\"token\": \"two\", \"token_id\": 734, \"is_partial\": false, \"type\": \"input\", \"value\": \"0.016324628\", \"position\": 2}, {\"token\": \"children\", \"token_id\": 1751, \"is_partial\": false, \"type\": \"input\", \"value\": \"0.027179044\", \"position\": 3}, {\"token\": \"and\", \"token_id\": 290, \"is_partial\": false, \"type\": \"input\", \"value\": \"0.018975535\", \"position\": 4}, {\"token\": \"their\", \"token_id\": 511, \"is_partial\": false, \"type\": \"input\", \"value\": \"0.01468738\", \"position\": 5}, {\"token\": \"mother\", \"token_id\": 2802, \"is_partial\": false, \"type\": \"input\", \"value\": \"0.020420425\", \"position\": 6}, {\"token\": \"in\", \"token_id\": 287, \"is_partial\": false, \"type\": \"input\", \"value\": \"0.01854331\", \"position\": 7}, {\"token\": \"the\", \"token_id\": 262, \"is_partial\": false, \"type\": \"input\", \"value\": \"0.018428778\", \"position\": 8}, {\"token\": \"kitchen\", \"token_id\": 9592, \"is_partial\": false, \"type\": \"input\", \"value\": \"0.034536622\", \"position\": 9}, {\"token\": \".\", \"token_id\": 13, \"is_partial\": true, \"type\": \"input\", \"value\": \"0.059535343\", \"position\": 10}, {\"token\": \"The\", \"token_id\": 383, \"is_partial\": false, \"type\": \"input\", \"value\": \"0.043675818\", \"position\": 11}, {\"token\": \"little\", \"token_id\": 1310, \"is_partial\": false, \"type\": \"input\", \"value\": \"0.012583032\", \"position\": 12}, {\"token\": \"boy\", \"token_id\": 2933, \"is_partial\": false, \"type\": \"input\", \"value\": \"0.012832798\", \"position\": 13}, {\"token\": \"has\", \"token_id\": 468, \"is_partial\": false, \"type\": \"input\", \"value\": \"0.011530431\", \"position\": 14}, {\"token\": \"climbed\", \"token_id\": 19952, \"is_partial\": false, \"type\": \"input\", \"value\": \"0.023962952\", \"position\": 15}, {\"token\": \"up\", \"token_id\": 510, \"is_partial\": false, \"type\": \"input\", \"value\": \"0.012367834\", \"position\": 16}, {\"token\": \",\", \"token_id\": 11, \"is_partial\": true, \"type\": \"input\", \"value\": \"0.011054215\", \"position\": 17}, {\"token\": \"on\", \"token_id\": 319, \"is_partial\": false, \"type\": \"input\", \"value\": \"0.009435169\", \"position\": 18}, {\"token\": \"a\", \"token_id\": 257, \"is_partial\": false, \"type\": \"input\", \"value\": \"0.009369937\", \"position\": 19}, {\"token\": \"three\", \"token_id\": 1115, \"is_partial\": false, \"type\": \"input\", \"value\": \"0.014415674\", \"position\": 20}, {\"token\": \"le\", \"token_id\": 443, \"is_partial\": false, \"type\": \"input\", \"value\": \"0.01581452\", \"position\": 21}, {\"token\": \"gged\", \"token_id\": 11178, \"is_partial\": true, \"type\": \"input\", \"value\": \"0.033986013\", \"position\": 22}, {\"token\": \"stool\", \"token_id\": 38753, \"is_partial\": false, \"type\": \"input\", \"value\": \"0.033964682\", \"position\": 23}, {\"token\": \"to\", \"token_id\": 284, \"is_partial\": false, \"type\": \"input\", \"value\": \"0.031292632\", \"position\": 24}, {\"token\": \"get\", \"token_id\": 651, \"is_partial\": false, \"type\": \"input\", \"value\": \"0.019078804\", \"position\": 25}, {\"token\": \"some\", \"token_id\": 617, \"is_partial\": false, \"type\": \"input\", \"value\": \"0.014929636\", \"position\": 26}, {\"token\": \"cookies\", \"token_id\": 14746, \"is_partial\": false, \"type\": \"input\", \"value\": \"0.027441869\", \"position\": 27}, {\"token\": \"from\", \"token_id\": 422, \"is_partial\": false, \"type\": \"input\", \"value\": \"0.0107130585\", \"position\": 28}, {\"token\": \"the\", \"token_id\": 262, \"is_partial\": false, \"type\": \"input\", \"value\": \"0.023155669\", \"position\": 29}, {\"token\": \"jar\", \"token_id\": 17379, \"is_partial\": false, \"type\": \"input\", \"value\": \"0.05396712\", \"position\": 30}, {\"token\": \"in\", \"token_id\": 287, \"is_partial\": false, \"type\": \"input\", \"value\": \"0.016790759\", \"position\": 31}, {\"token\": \"the\", \"token_id\": 262, \"is_partial\": false, \"type\": \"input\", \"value\": \"0.022585418\", \"position\": 32}, {\"token\": \"cup\", \"token_id\": 6508, \"is_partial\": false, \"type\": \"input\", \"value\": \"0.041657012\", \"position\": 33}, {\"token\": \"board\", \"token_id\": 3526, \"is_partial\": true, \"type\": \"input\", \"value\": \"0.072458215\", \"position\": 34}, {\"token\": \".\", \"token_id\": 13, \"is_partial\": true, \"type\": \"input\", \"value\": \"0.1254025\", \"position\": 35}, {\"token\": \"You\", \"token_id\": 921, \"is_partial\": false, \"type\": \"output\", \"value\": \"0\", \"position\": 36}, {\"token\": \"can\", \"token_id\": 460, \"is_partial\": false, \"type\": \"output\", \"value\": \"0\", \"position\": 37}, {\"token\": \"'t\", \"token_id\": 470, \"is_partial\": true, \"type\": \"output\", \"value\": \"0\", \"position\": 38}, {\"token\": \"put\", \"token_id\": 1234, \"is_partial\": false, \"type\": \"output\", \"value\": \"0\", \"position\": 39}, {\"token\": \"in\", \"token_id\": 287, \"is_partial\": false, \"type\": \"output\", \"value\": \"0\", \"position\": 40}, {\"token\": \"cup\", \"token_id\": 6508, \"is_partial\": false, \"type\": \"output\", \"value\": \"0\", \"position\": 41}, {\"token\": \"board\", \"token_id\": 3526, \"is_partial\": true, \"type\": \"output\", \"value\": \"0\", \"position\": 42}, {\"token\": \"with\", \"token_id\": 351, \"is_partial\": false, \"type\": \"output\", \"value\": \"0\", \"position\": 43}, {\"token\": \"a\", \"token_id\": 257, \"is_partial\": false, \"type\": \"output\", \"value\": \"0\", \"position\": 44}, {\"token\": \"milk\", \"token_id\": 7545, \"is_partial\": false, \"type\": \"output\", \"value\": \"0\", \"position\": 45}], \"attributions\": [[0.039880238473415375, 0.027022842317819595, 0.01632462814450264, 0.027179043740034103, 0.01897553540766239, 0.014687379822134972, 0.02042042464017868, 0.018543310463428497, 0.018428778275847435, 0.03453662246465683, 0.05953534319996834, 0.04367581754922867, 0.012583032250404358, 0.012832798063755035, 0.011530430987477303, 0.023962952196598053, 0.012367834337055683, 0.011054215021431446, 0.009435169398784637, 0.009369936771690845, 0.014415673911571503, 0.01581452041864395, 0.033986013382673264, 0.03396468237042427, 0.0312926322221756, 0.019078804180026054, 0.014929636381566525, 0.02744186855852604, 0.010713058523833752, 0.02315566875040531, 0.05396711826324463, 0.016790758818387985, 0.022585418075323105, 0.041657011955976486, 0.07245821505784988, 0.12540249526500702], [0.025545775890350342, 0.024380140006542206, 0.013235419988632202, 0.020324140787124634, 0.017022745683789253, 0.009820662438869476, 0.018632667139172554, 0.024937428534030914, 0.018416812643408775, 0.039022546261548996, 0.02113538235425949, 0.021497491747140884, 0.014717470854520798, 0.018908584490418434, 0.022492466494441032, 0.03195608779788017, 0.008933755569159985, 0.01883610524237156, 0.008162079378962517, 0.008828830905258656, 0.009470270946621895, 0.014782327227294445, 0.034970369189977646, 0.03309423848986626, 0.01620839349925518, 0.0171347726136446, 0.013281549327075481, 0.04223911091685295, 0.013885979540646076, 0.024357199668884277, 0.04822211712598801, 0.019779590889811516, 0.019902845844626427, 0.034830182790756226, 0.05441185459494591, 0.0517357662320137, 0.16488689184188843], [0.017674876376986504, 0.013910144567489624, 0.008599989116191864, 0.016359882429242134, 0.024014713242650032, 0.010702244937419891, 0.015798693522810936, 0.01901128515601158, 0.01974722556769848, 0.029231151565909386, 0.047938503324985504, 0.01590620167553425, 0.012124919332563877, 0.01780204102396965, 0.015153448097407818, 0.027596915140748024, 0.008637706749141216, 0.030444731935858727, 0.01657836325466633, 0.01924828439950943, 0.01309729553759098, 0.01498660072684288, 0.022684292867779732, 0.03178027272224426, 0.030354661867022514, 0.016342252492904663, 0.019707193598151207, 0.02636612206697464, 0.019394487142562866, 0.024937571957707405, 0.03588574379682541, 0.028890324756503105, 0.02321556769311428, 0.024844679981470108, 0.025410473346710205, 0.05128463730216026, 0.07630600035190582, 0.12803052365779877], [0.014813278801739216, 0.009165657684206963, 0.006411191076040268, 0.008754217997193336, 0.008627528324723244, 0.005683832336217165, 0.010597264394164085, 0.007540632504969835, 0.005823566112667322, 0.015105033293366432, 0.01620609499514103, 0.009139467030763626, 0.010515277273952961, 0.012863367795944214, 0.009612188674509525, 0.018940428271889687, 0.005888300947844982, 0.018585674464702606, 0.007426729891449213, 0.007589216809719801, 0.008975440636277199, 0.014324218966066837, 0.01903756894171238, 0.023871317505836487, 0.02250012382864952, 0.01531453337520361, 0.01522680651396513, 0.024981241673231125, 0.014116124249994755, 0.017158715054392815, 0.022246215492486954, 0.02200193516910076, 0.03279503807425499, 0.026061847805976868, 0.023816198110580444, 0.12457232922315598, 0.05957101657986641, 0.13805784285068512, 0.16608253121376038], [0.009665611200034618, 0.006630333606153727, 0.005877211689949036, 0.009595466777682304, 0.01708284765481949, 0.0058324821293354034, 0.008012546226382256, 0.010802043601870537, 0.008203207515180111, 0.015037499368190765, 0.02713797613978386, 0.008720871061086655, 0.006139435339719057, 0.009656459093093872, 0.007390385493636131, 0.01657801866531372, 0.005779494997113943, 0.01667609065771103, 0.007663133088499308, 0.007637531030923128, 0.009732183068990707, 0.016064338386058807, 0.05238451063632965, 0.045247554779052734, 0.054677948355674744, 0.08726747334003448, 0.08100206404924393, 0.02065432257950306, 0.013169496320188046, 0.018251994624733925, 0.026108192279934883, 0.017043888568878174, 0.01790793426334858, 0.014731896109879017, 0.019694404676556587, 0.05158458277583122, 0.04961355775594711, 0.026638247072696686, 0.04727932810783386, 0.12082739919424057], [0.01350778341293335, 0.011767087504267693, 0.007868068292737007, 0.012222005985677242, 0.008838508278131485, 0.006891828030347824, 0.012783504091203213, 0.02034115418791771, 0.01060156524181366, 0.025571005418896675, 0.04471367225050926, 0.011658797971904278, 0.008442314341664314, 0.013708643615245819, 0.009355800226330757, 0.024086549878120422, 0.01179321389645338, 0.01496912632137537, 0.0130097521468997, 0.016328701749444008, 0.014711646363139153, 0.01469842717051506, 0.032209254801273346, 0.04191979393362999, 0.01851348765194416, 0.014787872321903706, 0.01824500970542431, 0.03408228978514671, 0.009281936101615429, 0.023678110912442207, 0.04001107066869736, 0.033988915383815765, 0.029608244076371193, 0.09181183576583862, 0.03387193754315376, 0.045941062271595, 0.019724857062101364, 0.016513191163539886, 0.023652326315641403, 0.07406605780124664, 0.07022367417812347], [0.012391266413033009, 0.007479057647287846, 0.004932702518999577, 0.009606688283383846, 0.014216188341379166, 0.004943429492413998, 0.008216730318963528, 0.013373706489801407, 0.009672408923506737, 0.015339510515332222, 0.011340041644871235, 0.006173568312078714, 0.004734410904347897, 0.008564861491322517, 0.006548943463712931, 0.016108527779579163, 0.007871722802519798, 0.01462212298065424, 0.00960273202508688, 0.008703920058906078, 0.007599998265504837, 0.013000775128602982, 0.03420160710811615, 0.03850251063704491, 0.014808964915573597, 0.011733448132872581, 0.011917206458747387, 0.045804694294929504, 0.014553858898580074, 0.02687867172062397, 0.048642147332429886, 0.010757682844996452, 0.03973754122853279, 0.09382966160774231, 0.1290537565946579, 0.027114886790513992, 0.013285488821566105, 0.012021142058074474, 0.026396317407488823, 0.031024141237139702, 0.03166361525654793, 0.12302924692630768], [0.018399035558104515, 0.010139319114387035, 0.009104753844439983, 0.01624659262597561, 0.016593925654888153, 0.009810727089643478, 0.012943169102072716, 0.013583533465862274, 0.011524023488163948, 0.02480752393603325, 0.04745049402117729, 0.015993356704711914, 0.009029960259795189, 0.012563305906951427, 0.0100222984328866, 0.023035671561956406, 0.008480677381157875, 0.01215612143278122, 0.00978347659111023, 0.012105759233236313, 0.009139169938862324, 0.015277309343218803, 0.04299260675907135, 0.04502742737531662, 0.039326634258031845, 0.02578563801944256, 0.02356332540512085, 0.025293605402112007, 0.011556966230273247, 0.0109820906072855, 0.027277911081910133, 0.013612893410027027, 0.010933518409729004, 0.02211637794971466, 0.028681328520178795, 0.047628290951251984, 0.01729629561305046, 0.017598096281290054, 0.013144423253834248, 0.034504931420087814, 0.013323099352419376, 0.0767502635717392, 0.1244141012430191], [0.019577506929636, 0.011897624470293522, 0.012077332474291325, 0.0183611698448658, 0.036563195288181305, 0.010426025837659836, 0.013194771483540535, 0.020719172433018684, 0.022422829642891884, 0.022836508229374886, 0.036062851548194885, 0.015276159159839153, 0.009729098528623581, 0.010851755738258362, 0.011217444203794003, 0.025670528411865234, 0.008079485036432743, 0.0292446780949831, 0.013397879898548126, 0.023080438375473022, 0.010485070757567883, 0.01228390634059906, 0.027757994830608368, 0.033614154905080795, 0.012628832831978798, 0.007142143789678812, 0.0124880475923419, 0.030718669295310974, 0.01345038041472435, 0.015520562417805195, 0.027864063158631325, 0.013438243418931961, 0.01537975575774908, 0.02627977915108204, 0.024836484342813492, 0.06233294680714607, 0.019536884501576424, 0.011275441385805607, 0.010195109061896801, 0.022253477945923805, 0.018824506551027298, 0.03502867743372917, 0.04095018655061722, 0.1250281184911728], [0.01946929469704628, 0.009554103016853333, 0.008870691992342472, 0.01384816411882639, 0.011297103948891163, 0.006960612256079912, 0.01578449085354805, 0.00904202088713646, 0.008454660885035992, 0.03321880102157593, 0.018364733085036278, 0.008662817068397999, 0.006963943596929312, 0.012162860482931137, 0.009090662002563477, 0.021989859640598297, 0.0060689435340464115, 0.009655766189098358, 0.008986693806946278, 0.011776236817240715, 0.014476660639047623, 0.023269549012184143, 0.05569390207529068, 0.066271111369133, 0.012245978228747845, 0.014042195864021778, 0.013836182653903961, 0.07297880202531815, 0.012973340228199959, 0.022354716435074806, 0.0963783785700798, 0.02181374654173851, 0.01563797891139984, 0.04486918821930885, 0.045765362679958344, 0.014683060348033905, 0.013140152208507061, 0.010571841150522232, 0.009946911595761776, 0.0130922244861722, 0.008218243718147278, 0.04055829718708992, 0.04785570874810219, 0.021283509209752083, 0.037820566445589066]]},\n",
       "                    tokenization_config: {\"token_prefix\": \"\\u0120\", \"partial_token_prefix\": \"\"}\n",
       "             })\n",
       "\n",
       "             }, function (err) {\n",
       "                console.log(err);\n",
       "            })"
      ],
      "text/plain": [
       "<IPython.core.display.Javascript object>"
      ]
     },
     "metadata": {},
     "output_type": "display_data"
    }
   ],
   "source": [
    "doutput.primary_attributions(attr_method='grad_x_input', style=\"detailed\")"
   ]
  },
  {
   "cell_type": "code",
   "execution_count": 49,
   "id": "bb65c3f0",
   "metadata": {},
   "outputs": [
    {
     "data": {
      "text/html": [
       "<html lang=\"en\">\n",
       "<script src=\"https://requirejs.org/docs/release/2.3.6/minified/require.js\"></script>\n",
       "<script>\n",
       "    var ecco_url = 'https://storage.googleapis.com/ml-intro/ecco/'\n",
       "    //var ecco_url = 'http://localhost:8000/'\n",
       "\n",
       "    if (window.ecco === undefined) window.ecco = {}\n",
       "\n",
       "    // Setup the paths of the script we'll be using\n",
       "    requirejs.config({\n",
       "        urlArgs: \"bust=\" + (new Date()).getTime(),\n",
       "        nodeRequire: require,\n",
       "        paths: {\n",
       "            d3: \"https://d3js.org/d3.v6.min\", // This is only for use in setup.html and basic.html\n",
       "            \"d3-array\": \"https://d3js.org/d3-array.v2.min\",\n",
       "            jquery: \"https://code.jquery.com/jquery-3.5.1.min\",\n",
       "            ecco: ecco_url + 'js/0.0.6/ecco-bundle.min',\n",
       "            xregexp: 'https://cdnjs.cloudflare.com/ajax/libs/xregexp/3.2.0/xregexp-all.min'\n",
       "        }\n",
       "    });\n",
       "\n",
       "    // Add the css file\n",
       "    //requirejs(['d3'],\n",
       "    //    function (d3) {\n",
       "    //        d3.select('#css').attr('href', ecco_url + 'html/styles.css')\n",
       "    //    })\n",
       "\n",
       "    console.log('Ecco initialize!!')\n",
       "\n",
       "    // returns a 'basic' object. basic.init() selects the html div we'll be\n",
       "    // rendering the html into, adds styles.css to the document.\n",
       "    define('basic', ['d3'],\n",
       "        function (d3) {\n",
       "            return {\n",
       "                init: function (viz_id = null) {\n",
       "                    if (viz_id == null) {\n",
       "                        viz_id = \"viz_\" + Math.round(Math.random() * 10000000)\n",
       "                    }\n",
       "                    // Select the div rendered below, change its id\n",
       "                    const div = d3.select('#basic').attr('id', viz_id),\n",
       "                        div_parent = d3.select('#' + viz_id).node().parentNode\n",
       "\n",
       "                    // Link to CSS file\n",
       "                    d3.select(div_parent).insert('link')\n",
       "                        .attr('rel', 'stylesheet')\n",
       "                        .attr('type', 'text/css')\n",
       "                        .attr('href', ecco_url + 'html/0.0.2/styles.css')\n",
       "\n",
       "                    return viz_id\n",
       "                }\n",
       "            }\n",
       "        }, function (err) {\n",
       "            console.log(err);\n",
       "        }\n",
       "    )\n",
       "</script>\n",
       "\n",
       "<head>\n",
       "    <link id='css' rel=\"stylesheet\" type=\"text/css\">\n",
       "</head>\n",
       "<div id=\"basic\"></div>\n"
      ],
      "text/plain": [
       "<IPython.core.display.HTML object>"
      ]
     },
     "metadata": {},
     "output_type": "display_data"
    },
    {
     "data": {
      "application/javascript": [
       "\n",
       "         requirejs(['basic', 'ecco'], function(basic, ecco){\n",
       "            const viz_id = basic.init()\n",
       "\n",
       "\n",
       "            let pred = new ecco.LayerPredictions({\n",
       "                parentDiv: viz_id,\n",
       "                data:[[{\"token\": \"\\n\", \"prob\": \"0.030396035\", \"ranking\": 1, \"layer\": 11}, {\"token\": \" The\", \"prob\": \"0.028304566\", \"ranking\": 2, \"layer\": 11}, {\"token\": \" the\", \"prob\": \"0.026155284\", \"ranking\": 3, \"layer\": 11}, {\"token\": \" a\", \"prob\": \"0.011277777\", \"ranking\": 4, \"layer\": 11}, {\"token\": \" I\", \"prob\": \"0.0066344677\", \"ranking\": 5, \"layer\": 11}, {\"token\": \"\\n\\n\", \"prob\": \"0.0054392414\", \"ranking\": 6, \"layer\": 11}, {\"token\": \"<|endoftext|>\", \"prob\": \"0.0044176546\", \"ranking\": 7, \"layer\": 11}, {\"token\": \" to\", \"prob\": \"0.0043935548\", \"ranking\": 8, \"layer\": 11}, {\"token\": \" They\", \"prob\": \"0.004176142\", \"ranking\": 9, \"layer\": 11}, {\"token\": \" (\", \"prob\": \"0.004113436\", \"ranking\": 10, \"layer\": 11}]]\n",
       "            })\n",
       "            pred.init()\n",
       "         }, function (err) {\n",
       "            console.log(viz_id, err);\n",
       "        })"
      ],
      "text/plain": [
       "<IPython.core.display.Javascript object>"
      ]
     },
     "metadata": {},
     "output_type": "display_data"
    }
   ],
   "source": [
    "# layer_predictions(): Which tokens did the model consider as the best outputs for a specific position in the sequence?\n",
    "\n",
    "# To Visuallize in all layers\n",
    "# doutput.layer_predictions(position=36)\n",
    "\n",
    "# To visualize in last layer (11th layer)\n",
    "doutput.layer_predictions(position=36, layer=11)"
   ]
  },
  {
   "cell_type": "code",
   "execution_count": 50,
   "id": "353952b2",
   "metadata": {},
   "outputs": [
    {
     "data": {
      "text/html": [
       "<html lang=\"en\">\n",
       "<script src=\"https://requirejs.org/docs/release/2.3.6/minified/require.js\"></script>\n",
       "<script>\n",
       "    var ecco_url = 'https://storage.googleapis.com/ml-intro/ecco/'\n",
       "    //var ecco_url = 'http://localhost:8000/'\n",
       "\n",
       "    if (window.ecco === undefined) window.ecco = {}\n",
       "\n",
       "    // Setup the paths of the script we'll be using\n",
       "    requirejs.config({\n",
       "        urlArgs: \"bust=\" + (new Date()).getTime(),\n",
       "        nodeRequire: require,\n",
       "        paths: {\n",
       "            d3: \"https://d3js.org/d3.v6.min\", // This is only for use in setup.html and basic.html\n",
       "            \"d3-array\": \"https://d3js.org/d3-array.v2.min\",\n",
       "            jquery: \"https://code.jquery.com/jquery-3.5.1.min\",\n",
       "            ecco: ecco_url + 'js/0.0.6/ecco-bundle.min',\n",
       "            xregexp: 'https://cdnjs.cloudflare.com/ajax/libs/xregexp/3.2.0/xregexp-all.min'\n",
       "        }\n",
       "    });\n",
       "\n",
       "    // Add the css file\n",
       "    //requirejs(['d3'],\n",
       "    //    function (d3) {\n",
       "    //        d3.select('#css').attr('href', ecco_url + 'html/styles.css')\n",
       "    //    })\n",
       "\n",
       "    console.log('Ecco initialize!!')\n",
       "\n",
       "    // returns a 'basic' object. basic.init() selects the html div we'll be\n",
       "    // rendering the html into, adds styles.css to the document.\n",
       "    define('basic', ['d3'],\n",
       "        function (d3) {\n",
       "            return {\n",
       "                init: function (viz_id = null) {\n",
       "                    if (viz_id == null) {\n",
       "                        viz_id = \"viz_\" + Math.round(Math.random() * 10000000)\n",
       "                    }\n",
       "                    // Select the div rendered below, change its id\n",
       "                    const div = d3.select('#basic').attr('id', viz_id),\n",
       "                        div_parent = d3.select('#' + viz_id).node().parentNode\n",
       "\n",
       "                    // Link to CSS file\n",
       "                    d3.select(div_parent).insert('link')\n",
       "                        .attr('rel', 'stylesheet')\n",
       "                        .attr('type', 'text/css')\n",
       "                        .attr('href', ecco_url + 'html/0.0.2/styles.css')\n",
       "\n",
       "                    return viz_id\n",
       "                }\n",
       "            }\n",
       "        }, function (err) {\n",
       "            console.log(err);\n",
       "        }\n",
       "    )\n",
       "</script>\n",
       "\n",
       "<head>\n",
       "    <link id='css' rel=\"stylesheet\" type=\"text/css\">\n",
       "</head>\n",
       "<div id=\"basic\"></div>\n"
      ],
      "text/plain": [
       "<IPython.core.display.HTML object>"
      ]
     },
     "metadata": {},
     "output_type": "display_data"
    },
    {
     "data": {
      "application/javascript": [
       "\n",
       "         requirejs(['basic', 'ecco'], function(basic, ecco){\n",
       "            const viz_id = basic.init()\n",
       "\n",
       "\n",
       "            let pred = new ecco.LayerPredictions({\n",
       "                parentDiv: viz_id,\n",
       "                data:[[{\"token\": \" He\", \"prob\": \"0.23178129\", \"ranking\": 1, \"layer\": 11}, {\"token\": \" The\", \"prob\": \"0.21431358\", \"ranking\": 2, \"layer\": 11}, {\"token\": \"\\n\", \"prob\": \"0.09969094\", \"ranking\": 3, \"layer\": 11}, {\"token\": \" His\", \"prob\": \"0.036150314\", \"ranking\": 4, \"layer\": 11}, {\"token\": \" \\\"\", \"prob\": \"0.0242073\", \"ranking\": 5, \"layer\": 11}, {\"token\": \" It\", \"prob\": \"0.023587799\", \"ranking\": 6, \"layer\": 11}, {\"token\": \" I\", \"prob\": \"0.020647548\", \"ranking\": 7, \"layer\": 11}, {\"token\": \" They\", \"prob\": \"0.019932443\", \"ranking\": 8, \"layer\": 11}, {\"token\": \" She\", \"prob\": \"0.01829383\", \"ranking\": 9, \"layer\": 11}, {\"token\": \" There\", \"prob\": \"0.018109415\", \"ranking\": 10, \"layer\": 11}]]\n",
       "            })\n",
       "            pred.init()\n",
       "         }, function (err) {\n",
       "            console.log(viz_id, err);\n",
       "        })"
      ],
      "text/plain": [
       "<IPython.core.display.Javascript object>"
      ]
     },
     "metadata": {},
     "output_type": "display_data"
    }
   ],
   "source": [
    "# 1\n",
    "# Visualize # output_0.layer_predictions(position=6, layer=5)\n",
    "\n",
    "# 2\n",
    "# output = lm.generate(text, generate=1, do_sample=False)\n",
    "# Visualize the candidate tokens at the last layer of the model (layer 5)\n",
    "# output.layer_predictions(position=8, layer=5) \n",
    "\n",
    "# 3\n",
    "# redictions for position 8\n",
    "# We can see more tokens using the topk parameter\n",
    "# output.layer_predictions(position=8, layer=5, topk=20)\n",
    "\n",
    "# 4\n",
    "# \n",
    "# Visualize the candidate tokens at every layer\n",
    "# output.layer_predictions(position=6)\n",
    "\n",
    "# # To Visuallize in all layers\n",
    "# output.layer_predictions(position=36)\n",
    "\n",
    "# # To Visuallize in last layer (11th layer)\n",
    "output.layer_predictions(position=36, layer=11)"
   ]
  },
  {
   "cell_type": "markdown",
   "id": "9a166f00",
   "metadata": {},
   "source": [
    "We also assessed differences in text generation between GPT-2 and GPT-D, by estimating repetitiveness and lexical frequency, as well as through salience-based visualization."
   ]
  },
  {
   "cell_type": "code",
   "execution_count": 51,
   "id": "b703a13e",
   "metadata": {},
   "outputs": [
    {
     "name": "stdout",
     "output_type": "stream",
     "text": [
      "con mean saliency: 4.00\n",
      "dem mean saliency: 4.00\n",
      "con total saliency: 100.00\n",
      "dem total saliency: 99.99\n",
      "t-test p-value: 1.000\n",
      "con mean saliency: 2.78\n",
      "dem mean saliency: 2.78\n",
      "con total saliency: 100.02\n",
      "dem total saliency: 100.01\n",
      "t-test p-value: 0.999\n"
     ]
    }
   ],
   "source": [
    "import numpy as np\n",
    "from scipy.stats import ttest_ind\n",
    "con = [6.62, 6.21, 7.4, 3.41, 8.74,\n",
    "       1.69, 3.9, 1.34, 1.48, 1.19,\n",
    "       3.24, 8.16, 7.23, 2.79, 1.47,\n",
    "       1.95, 6.47, 1.44, 0.91, 4.65,\n",
    "       1.35, 1.59, 4.08, 5.27, 7.42]\n",
    "con_2 = [7.93, 3.66, 2.67, 5.46, 4.07,\n",
    "         1.65, 2.79, 1.71, 2.3, 6.04,\n",
    "         4.83, 2.82, 2.83, 5.09, 1.55,\n",
    "         5.72, 0.85, 0.9, 0.48, 0.57,\n",
    "         0.97, 1.97, 4.24, 4.18, 1.05,\n",
    "         0.95, 1.03, 3.81, 0.72, 0.9, 2.68, 1.32, 0.84, 2.39, 2.94, 6.11]\n",
    "dem = [5.24, 5.68, 2.86, 2.92, 3.73,\n",
    "       1.32, 7.43, 2.26, 4.59, 1.88,\n",
    "       1.93, 3.35, 4.06, 4.45, 1.81,\n",
    "       2.06, 3.2, 2.09, 2.72, 5.1,\n",
    "       2.81, 4.34, 4.77, 5.65, 13.74]\n",
    "dem_2 = [2.75, 2.82, 1.6, 2.22, 3.64, 1.51, 2.46, 3.45, 5.03, 4.48, 7.63,\n",
    "         2.68, 1.25, 2.07, 1.71, 2.63, 1.25, 3.79, 2.04, 2.7, 1.92, 1.73,\n",
    "         2.51, 2.75, 3.19, 1.15, 1.76, 2.18, 2.17, 1.72, 2.76, 1.63, 2.33,\n",
    "         3.22, 3.07, 8.21]\n",
    "print(\"con mean saliency: {:0.2f}\".format(np.mean(con)))\n",
    "print(\"dem mean saliency: {:0.2f}\".format(np.mean(dem)))\n",
    "print(\"con total saliency: {:0.2f}\".format(np.sum(con)))\n",
    "print(\"dem total saliency: {:0.2f}\".format(np.sum(dem)))\n",
    "print(\"t-test p-value: {:0.3f}\".format(ttest_ind(con, dem)[1]))\n",
    "print(\"con mean saliency: {:0.2f}\".format(np.mean(con_2)))\n",
    "print(\"dem mean saliency: {:0.2f}\".format(np.mean(dem_2)))\n",
    "print(\"con total saliency: {:0.2f}\".format(np.sum(con_2)))\n",
    "print(\"dem total saliency: {:0.2f}\".format(np.sum(dem_2)))\n",
    "print(\"t-test p-value: {:0.3f}\".format(ttest_ind(con_2, dem_2)[1]))"
   ]
  },
  {
   "cell_type": "code",
   "execution_count": 53,
   "id": "605f3abc",
   "metadata": {},
   "outputs": [
    {
     "data": {
      "image/png": "[encoded data removed]",
      "text/plain": [
       "<Figure size 432x288 with 1 Axes>"
      ]
     },
     "metadata": {
      "needs_background": "light"
     },
     "output_type": "display_data"
    },
    {
     "data": {
      "image/png": "[encoded data removed]",
      "text/plain": [
       "<Figure size 432x288 with 1 Axes>"
      ]
     },
     "metadata": {
      "needs_background": "light"
     },
     "output_type": "display_data"
    }
   ],
   "source": [
    "from matplotlib import pyplot as plt\n",
    "\n",
    "fig1, ax1 = plt.subplots()\n",
    "ax1.hist(con, label=\"unimpaired\")\n",
    "ax1.hist(dem, label=\"impaired\")\n",
    "ax1.legend(loc=\"upper right\")\n",
    "plt.show()\n",
    "\n",
    "fig2, ax2 = plt.subplots()\n",
    "ax2.hist(con_2, label=\"unimpaired\")\n",
    "ax2.hist(dem_2, label=\"impaired\")\n",
    "ax2.legend(loc=\"upper right\")\n",
    "plt.show()"
   ]
  },
  {
   "cell_type": "code",
   "execution_count": null,
   "id": "e0479c94",
   "metadata": {},
   "outputs": [],
   "source": []
  }
 ],
 "metadata": {
  "kernelspec": {
   "display_name": "Python 3 (ipykernel)",
   "language": "python",
   "name": "python3"
  },
  "language_info": {
   "codemirror_mode": {
    "name": "ipython",
    "version": 3
   },
   "file_extension": ".py",
   "mimetype": "text/x-python",
   "name": "python",
   "nbconvert_exporter": "python",
   "pygments_lexer": "ipython3",
   "version": "3.8.16"
  }
 },
 "nbformat": 4,
 "nbformat_minor": 5
}
